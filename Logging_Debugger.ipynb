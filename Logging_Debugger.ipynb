{
 "cells": [
  {
   "cell_type": "code",
   "execution_count": 1,
   "id": "cbeadda2-8e88-4916-bcca-e075bc2ae504",
   "metadata": {},
   "outputs": [],
   "source": [
    "import logging"
   ]
  },
  {
   "cell_type": "code",
   "execution_count": 2,
   "id": "099f8805-cf81-4707-a9cc-2fae2da53f2f",
   "metadata": {},
   "outputs": [],
   "source": [
    "logging.basicConfig(filename = 'test.log', level = logging.WARNING)"
   ]
  },
  {
   "cell_type": "markdown",
   "id": "c897768f-1099-458e-85b4-e0b889bb546b",
   "metadata": {},
   "source": [
    "- basically to avoid print statement\n",
    "\n",
    "### Hierarchy of Logging\n",
    "1. NOSET\n",
    "2. DEBUG\n",
    "3. INFO\n",
    "4. WARNING\n",
    "5. ERROR\n",
    "6. CRITICAL"
   ]
  },
  {
   "cell_type": "code",
   "execution_count": 3,
   "id": "6b7add0f-dded-4155-9b31-be7b76054639",
   "metadata": {},
   "outputs": [],
   "source": [
    "logging.debug('this is my debug message')"
   ]
  },
  {
   "cell_type": "code",
   "execution_count": 4,
   "id": "c0a51485-83dd-449f-a4de-d657367f3831",
   "metadata": {},
   "outputs": [],
   "source": [
    "logging.info('this is my infp message')"
   ]
  },
  {
   "cell_type": "code",
   "execution_count": 5,
   "id": "aac6a870-f0d5-4fdd-aeac-c65d27be3d8d",
   "metadata": {},
   "outputs": [],
   "source": [
    "logging.critical('this is my critical message')"
   ]
  },
  {
   "cell_type": "code",
   "execution_count": 6,
   "id": "97c4e071-31c7-4016-a4f6-07cd2540cbe3",
   "metadata": {},
   "outputs": [
    {
     "ename": "AttributeError",
     "evalue": "module 'logging' has no attribute 'noset'",
     "output_type": "error",
     "traceback": [
      "\u001b[0;31m---------------------------------------------------------------------------\u001b[0m",
      "\u001b[0;31mAttributeError\u001b[0m                            Traceback (most recent call last)",
      "Cell \u001b[0;32mIn[6], line 1\u001b[0m\n\u001b[0;32m----> 1\u001b[0m \u001b[43mlogging\u001b[49m\u001b[38;5;241;43m.\u001b[39;49m\u001b[43mnoset\u001b[49m(\u001b[38;5;124m'\u001b[39m\u001b[38;5;124mthis is my noset message\u001b[39m\u001b[38;5;124m'\u001b[39m)\n",
      "\u001b[0;31mAttributeError\u001b[0m: module 'logging' has no attribute 'noset'"
     ]
    }
   ],
   "source": [
    "logging.noset('this is my noset message')"
   ]
  },
  {
   "cell_type": "code",
   "execution_count": 2,
   "id": "025e3faa-5018-480e-82e2-e1a35170b130",
   "metadata": {},
   "outputs": [],
   "source": [
    "logging.basicConfig(filename = 'test1.log', level = logging.INFO, format = '%(asctime)s %(message)s')"
   ]
  },
  {
   "cell_type": "code",
   "execution_count": 3,
   "id": "bb82ae25-cd9c-4f70-bcad-093821d9a294",
   "metadata": {},
   "outputs": [],
   "source": [
    "logging.info('this is my info')"
   ]
  },
  {
   "cell_type": "code",
   "execution_count": 4,
   "id": "46a0bb9d-62d7-4672-b6e6-828f94c9fef7",
   "metadata": {},
   "outputs": [],
   "source": [
    "logging.debug('this is my debug')"
   ]
  },
  {
   "cell_type": "code",
   "execution_count": 5,
   "id": "5e10b7b6-08a2-4d91-9c33-b7e5381583a7",
   "metadata": {},
   "outputs": [],
   "source": [
    "logging.shutdown()"
   ]
  },
  {
   "cell_type": "code",
   "execution_count": 2,
   "id": "f24812b1-2424-461d-8821-07c9e466ef28",
   "metadata": {},
   "outputs": [],
   "source": [
    "logging.basicConfig(filename = 'test3.log', level = logging.DEBUG, format = '%(asctime)s %(name)s %(levelname)s %(message)s')"
   ]
  },
  {
   "cell_type": "code",
   "execution_count": 3,
   "id": "d396aad3-b0a0-4072-b844-f28d2bb0f14a",
   "metadata": {},
   "outputs": [],
   "source": [
    "logging.info('this is my info log')"
   ]
  },
  {
   "cell_type": "code",
   "execution_count": 4,
   "id": "ae4664d1-c6a5-47f2-a055-0ea570a60101",
   "metadata": {},
   "outputs": [],
   "source": [
    "logging.critical('this is my critical log')"
   ]
  },
  {
   "cell_type": "markdown",
   "id": "42b19814-ddc8-41b9-ab1d-a1561450238b",
   "metadata": {},
   "source": [
    "- In python code"
   ]
  },
  {
   "cell_type": "code",
   "execution_count": 5,
   "id": "ef41d6f7-e5fc-4fb1-839b-230bde67c4a1",
   "metadata": {},
   "outputs": [],
   "source": [
    "l = [1,2,3,4,[5,6,7],'sudh','kumar',93.5,6+7j]"
   ]
  },
  {
   "cell_type": "code",
   "execution_count": 6,
   "id": "08b9f4bc-0a2e-4a85-ba02-c74e34bc646f",
   "metadata": {},
   "outputs": [
    {
     "data": {
      "text/plain": [
       "complex"
      ]
     },
     "execution_count": 6,
     "metadata": {},
     "output_type": "execute_result"
    }
   ],
   "source": [
    "type(6+7j)"
   ]
  },
  {
   "cell_type": "code",
   "execution_count": 8,
   "id": "e7159fa3-cf79-4315-8fc0-e17db6a2f51c",
   "metadata": {},
   "outputs": [],
   "source": [
    "l_int = []\n",
    "l_str = []\n",
    "l_dec = []\n",
    "l_com = []\n",
    "\n",
    "\n",
    "for i in l:\n",
    "    logging.info('the list we are using is {}'.format(l))\n",
    "    logging.info('the value in the list passed is {}'.format(i))\n",
    "    if type(i) == list:\n",
    "        for j in i:\n",
    "            logging.info('the list {i} we are using {j}'.format(i = i, j = j))\n",
    "            if type[j] == int:\n",
    "                l_int.append(j)\n",
    "    elif type(i) == int:\n",
    "        l_int.append(i)\n",
    "    elif type(i) == complex:\n",
    "        l_com.append(i)\n",
    "    else:\n",
    "        if type(i) == str:\n",
    "            l_str.append(i)\n",
    "        else:\n",
    "            l_dec.append(i)\n",
    "        \n",
    "\n",
    "logging.info('the output is integer: {i}, string: {s}, complex: {c}, decimal: {d}'.format(i = l_int, c = l_com, d = l_dec, s = l_str))"
   ]
  },
  {
   "cell_type": "code",
   "execution_count": 9,
   "id": "30c25b6b-48d9-484e-a0d1-dae1ead07e26",
   "metadata": {},
   "outputs": [
    {
     "data": {
      "text/plain": [
       "float"
      ]
     },
     "execution_count": 9,
     "metadata": {},
     "output_type": "execute_result"
    }
   ],
   "source": [
    "type(66.2)"
   ]
  },
  {
   "cell_type": "code",
   "execution_count": null,
   "id": "c1d84df7-5161-4642-8f79-c81315031508",
   "metadata": {},
   "outputs": [],
   "source": []
  }
 ],
 "metadata": {
  "kernelspec": {
   "display_name": "Python 3 (ipykernel)",
   "language": "python",
   "name": "python3"
  },
  "language_info": {
   "codemirror_mode": {
    "name": "ipython",
    "version": 3
   },
   "file_extension": ".py",
   "mimetype": "text/x-python",
   "name": "python",
   "nbconvert_exporter": "python",
   "pygments_lexer": "ipython3",
   "version": "3.10.8"
  }
 },
 "nbformat": 4,
 "nbformat_minor": 5
}
