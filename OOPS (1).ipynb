{
 "cells": [
  {
   "cell_type": "markdown",
   "id": "670541ab-9f1b-4237-b333-3a175e12fecd",
   "metadata": {
    "jp-MarkdownHeadingCollapsed": true,
    "tags": []
   },
   "source": [
    "## OOPS"
   ]
  },
  {
   "cell_type": "code",
   "execution_count": 1,
   "id": "5f8f4edb-dfc5-43d3-8346-2a379bf61bde",
   "metadata": {},
   "outputs": [
    {
     "ename": "SyntaxError",
     "evalue": "incomplete input (1236307212.py, line 2)",
     "output_type": "error",
     "traceback": [
      "\u001b[0;36m  Cell \u001b[0;32mIn[1], line 2\u001b[0;36m\u001b[0m\n\u001b[0;31m    \u001b[0m\n\u001b[0m    ^\u001b[0m\n\u001b[0;31mSyntaxError\u001b[0m\u001b[0;31m:\u001b[0m incomplete input\n"
     ]
    }
   ],
   "source": [
    "class test:\n",
    "    "
   ]
  },
  {
   "cell_type": "code",
   "execution_count": 2,
   "id": "b062a34c-67e0-4df3-827b-0828c23e4a83",
   "metadata": {},
   "outputs": [],
   "source": [
    "class test:\n",
    "    pass"
   ]
  },
  {
   "cell_type": "code",
   "execution_count": 3,
   "id": "bc418342-9898-4e54-83b7-82686bf04499",
   "metadata": {},
   "outputs": [],
   "source": [
    "a = test()"
   ]
  },
  {
   "cell_type": "code",
   "execution_count": 4,
   "id": "aff8c9f0-0815-46e0-b490-c04f35a993cf",
   "metadata": {},
   "outputs": [
    {
     "name": "stdout",
     "output_type": "stream",
     "text": [
      "<class '__main__.test'>\n"
     ]
    }
   ],
   "source": [
    "print(type(a))"
   ]
  },
  {
   "cell_type": "code",
   "execution_count": 6,
   "id": "0d04ca5b-1048-4856-b2ee-e3bd022653d6",
   "metadata": {},
   "outputs": [],
   "source": [
    "class pwskills:\n",
    "    \n",
    "    def welcome_msg():\n",
    "        print(\"welcome to pwskills\")"
   ]
  },
  {
   "cell_type": "code",
   "execution_count": 11,
   "id": "f2dc64b4-a0f2-4954-8313-3259938f09eb",
   "metadata": {},
   "outputs": [],
   "source": [
    "rohan = pwskills()"
   ]
  },
  {
   "cell_type": "code",
   "execution_count": 12,
   "id": "ee02330a-7b88-4eeb-ae1f-8be616fc0ae7",
   "metadata": {},
   "outputs": [
    {
     "name": "stdout",
     "output_type": "stream",
     "text": [
      "welcome to pwskills\n"
     ]
    }
   ],
   "source": [
    "rohan.welcome_msg()"
   ]
  },
  {
   "cell_type": "code",
   "execution_count": 9,
   "id": "2149e266-c4b0-4825-b0fb-8b123d5e9c33",
   "metadata": {},
   "outputs": [],
   "source": [
    "class pwskills:\n",
    "    \n",
    "    def welcome_msg(self):\n",
    "        print(\"welcome to pwskills\")"
   ]
  },
  {
   "cell_type": "code",
   "execution_count": 13,
   "id": "e9a76944-e0b6-4c07-ab99-3a07af631c51",
   "metadata": {},
   "outputs": [],
   "source": [
    "sohan = pwskills()"
   ]
  },
  {
   "cell_type": "code",
   "execution_count": 14,
   "id": "2b893b20-3c10-40ca-b8dd-f0fb46d31f5f",
   "metadata": {},
   "outputs": [
    {
     "name": "stdout",
     "output_type": "stream",
     "text": [
      "welcome to pwskills\n"
     ]
    }
   ],
   "source": [
    "sohan.welcome_msg()"
   ]
  },
  {
   "cell_type": "code",
   "execution_count": 15,
   "id": "364f14e0-b2f8-4994-865d-d44b9e9427d3",
   "metadata": {},
   "outputs": [
    {
     "data": {
      "text/plain": [
       "False"
      ]
     },
     "execution_count": 15,
     "metadata": {},
     "output_type": "execute_result"
    }
   ],
   "source": [
    "rohan is sohan"
   ]
  },
  {
   "cell_type": "code",
   "execution_count": 16,
   "id": "d7dd6fef-d489-4544-af05-fe2a8c50bef9",
   "metadata": {},
   "outputs": [],
   "source": [
    "class pwskills1:\n",
    "    \n",
    "    def __init__(self, student_id, phone_number, email_id):\n",
    "        self.phone_number = phone_number\n",
    "        self.student_id = student_id\n",
    "        self.email_id = email_id\n",
    "    \n",
    "    def return_student_details(self):\n",
    "        return self.student_id, self.phone_number, self.email_id\n",
    "    \n",
    "    "
   ]
  },
  {
   "cell_type": "code",
   "execution_count": 18,
   "id": "4a2367a8-e2b9-4352-b5e6-11c5a36d767c",
   "metadata": {},
   "outputs": [
    {
     "ename": "TypeError",
     "evalue": "pwskills1.__init__() missing 3 required positional arguments: 'student_id', 'phone_number', and 'email_id'",
     "output_type": "error",
     "traceback": [
      "\u001b[0;31m---------------------------------------------------------------------------\u001b[0m",
      "\u001b[0;31mTypeError\u001b[0m                                 Traceback (most recent call last)",
      "Cell \u001b[0;32mIn[18], line 1\u001b[0m\n\u001b[0;32m----> 1\u001b[0m abhi \u001b[38;5;241m=\u001b[39m \u001b[43mpwskills1\u001b[49m\u001b[43m(\u001b[49m\u001b[43m)\u001b[49m\n",
      "\u001b[0;31mTypeError\u001b[0m: pwskills1.__init__() missing 3 required positional arguments: 'student_id', 'phone_number', and 'email_id'"
     ]
    }
   ],
   "source": [
    "abhi = pwskills1()"
   ]
  },
  {
   "cell_type": "code",
   "execution_count": 20,
   "id": "7c9cc9e6-269c-4ab2-9530-d7a0eb0a5be0",
   "metadata": {},
   "outputs": [],
   "source": [
    "abhi = pwskills1(101, 98438783, 'abhi122@gmail.com')"
   ]
  },
  {
   "cell_type": "code",
   "execution_count": 21,
   "id": "e6d5ecf6-f503-4e56-bcf4-967d92ee955e",
   "metadata": {},
   "outputs": [
    {
     "data": {
      "text/plain": [
       "'abhi122@gmail.com'"
      ]
     },
     "execution_count": 21,
     "metadata": {},
     "output_type": "execute_result"
    }
   ],
   "source": [
    "abhi.email_id"
   ]
  },
  {
   "cell_type": "code",
   "execution_count": 22,
   "id": "d4afd1b2-20d0-4a36-834b-2ef3a460b11f",
   "metadata": {},
   "outputs": [
    {
     "data": {
      "text/plain": [
       "98438783"
      ]
     },
     "execution_count": 22,
     "metadata": {},
     "output_type": "execute_result"
    }
   ],
   "source": [
    "abhi.phone_number"
   ]
  },
  {
   "cell_type": "code",
   "execution_count": 23,
   "id": "5e6d902e-839f-4380-a1b8-6b59d12e2c57",
   "metadata": {},
   "outputs": [
    {
     "data": {
      "text/plain": [
       "101"
      ]
     },
     "execution_count": 23,
     "metadata": {},
     "output_type": "execute_result"
    }
   ],
   "source": [
    "abhi.student_id"
   ]
  },
  {
   "cell_type": "code",
   "execution_count": 24,
   "id": "7a12afa3-82f8-4fd1-acb2-134b2a789e41",
   "metadata": {},
   "outputs": [
    {
     "data": {
      "text/plain": [
       "(101, 98438783, 'abhi122@gmail.com')"
      ]
     },
     "execution_count": 24,
     "metadata": {},
     "output_type": "execute_result"
    }
   ],
   "source": [
    "abhi.return_student_details()"
   ]
  },
  {
   "cell_type": "code",
   "execution_count": 25,
   "id": "ca8846bb-f5a9-4cb3-bd68-762fa321d744",
   "metadata": {},
   "outputs": [],
   "source": [
    "vamsi = pwskills1(102, 87424714, 'vamsi134@gmail.com')"
   ]
  },
  {
   "cell_type": "code",
   "execution_count": 26,
   "id": "07b9ef88-fa96-4cf3-b31b-86020102934b",
   "metadata": {},
   "outputs": [
    {
     "data": {
      "text/plain": [
       "102"
      ]
     },
     "execution_count": 26,
     "metadata": {},
     "output_type": "execute_result"
    }
   ],
   "source": [
    "vamsi.student_id"
   ]
  },
  {
   "cell_type": "code",
   "execution_count": 27,
   "id": "dc463e00-198c-4cc6-ba73-e31713ddc990",
   "metadata": {},
   "outputs": [
    {
     "data": {
      "text/plain": [
       "87424714"
      ]
     },
     "execution_count": 27,
     "metadata": {},
     "output_type": "execute_result"
    }
   ],
   "source": [
    "vamsi.phone_number"
   ]
  },
  {
   "cell_type": "code",
   "execution_count": 28,
   "id": "ee2227f7-b9c2-4708-a870-af51b87f794c",
   "metadata": {},
   "outputs": [
    {
     "data": {
      "text/plain": [
       "'vamsi134@gmail.com'"
      ]
     },
     "execution_count": 28,
     "metadata": {},
     "output_type": "execute_result"
    }
   ],
   "source": [
    "vamsi.email_id"
   ]
  },
  {
   "cell_type": "code",
   "execution_count": 30,
   "id": "59c13c5a-5f80-438e-9a79-c0c9292133ff",
   "metadata": {},
   "outputs": [
    {
     "data": {
      "text/plain": [
       "(102, 87424714, 'vamsi134@gmail.com')"
      ]
     },
     "execution_count": 30,
     "metadata": {},
     "output_type": "execute_result"
    }
   ],
   "source": [
    "vamsi.return_student_details()"
   ]
  },
  {
   "cell_type": "code",
   "execution_count": 32,
   "id": "319ab33f-6916-436b-9a4d-fb361459a2e4",
   "metadata": {},
   "outputs": [],
   "source": [
    "class pwskills2:\n",
    "    \n",
    "    def __init__(see, student_id, phone_number, email_id):\n",
    "        see.phone_number = phone_number\n",
    "        see.student_id = student_id\n",
    "        see.email_id = email_id\n",
    "    \n",
    "    def return_student_details(see):\n",
    "        return see.student_id, see.phone_number, see.email_id\n",
    "    \n",
    "    "
   ]
  },
  {
   "cell_type": "code",
   "execution_count": 33,
   "id": "65a60d9d-33df-405b-a443-71eb42cb53d0",
   "metadata": {},
   "outputs": [],
   "source": [
    "srinu = pwskills2(223, 98723421, 'srinu@gmail.com')"
   ]
  },
  {
   "cell_type": "code",
   "execution_count": 34,
   "id": "dbade97e-8443-49aa-a3d7-998a346fc8ab",
   "metadata": {},
   "outputs": [
    {
     "data": {
      "text/plain": [
       "'srinu@gmail.com'"
      ]
     },
     "execution_count": 34,
     "metadata": {},
     "output_type": "execute_result"
    }
   ],
   "source": [
    "srinu.email_id"
   ]
  },
  {
   "cell_type": "code",
   "execution_count": 35,
   "id": "b878b758-14d6-4743-b5a7-80a7efe5b107",
   "metadata": {},
   "outputs": [
    {
     "data": {
      "text/plain": [
       "98723421"
      ]
     },
     "execution_count": 35,
     "metadata": {},
     "output_type": "execute_result"
    }
   ],
   "source": [
    "srinu.phone_number"
   ]
  },
  {
   "cell_type": "code",
   "execution_count": 37,
   "id": "544637ba-8935-4be0-a025-ea8734356433",
   "metadata": {},
   "outputs": [
    {
     "data": {
      "text/plain": [
       "(223, 98723421, 'srinu@gmail.com')"
      ]
     },
     "execution_count": 37,
     "metadata": {},
     "output_type": "execute_result"
    }
   ],
   "source": [
    "srinu.return_student_details()"
   ]
  },
  {
   "cell_type": "code",
   "execution_count": 38,
   "id": "2d02772e-fce1-4c4b-ad48-2364ae1c7cae",
   "metadata": {},
   "outputs": [
    {
     "data": {
      "text/plain": [
       "223"
      ]
     },
     "execution_count": 38,
     "metadata": {},
     "output_type": "execute_result"
    }
   ],
   "source": [
    "srinu.student_id"
   ]
  },
  {
   "cell_type": "code",
   "execution_count": 40,
   "id": "f853f7df-3789-4765-a518-507fd9fc3625",
   "metadata": {},
   "outputs": [],
   "source": [
    "class pwskills3:\n",
    "    \n",
    "    def __init__(self, student_id, phone_number, email_id):\n",
    "        self.phone_number1 = phone_number\n",
    "        self.student_id = student_id\n",
    "        self.email_id = email_id\n",
    "    \n",
    "    def return_student_details(self):\n",
    "        return self.student_id1, self.phone_number, self.email_id\n",
    "    \n",
    "    "
   ]
  },
  {
   "cell_type": "code",
   "execution_count": 41,
   "id": "cdd8eb66-8690-40b6-ba87-45b76b3ecac8",
   "metadata": {},
   "outputs": [],
   "source": [
    "srinu = pwskills3(223, 98723421, 'srinu@gmail.com')"
   ]
  },
  {
   "cell_type": "code",
   "execution_count": 42,
   "id": "659821fd-7785-4cb3-98ff-181867a5cc40",
   "metadata": {},
   "outputs": [
    {
     "ename": "AttributeError",
     "evalue": "'pwskills3' object has no attribute 'phone_number'",
     "output_type": "error",
     "traceback": [
      "\u001b[0;31m---------------------------------------------------------------------------\u001b[0m",
      "\u001b[0;31mAttributeError\u001b[0m                            Traceback (most recent call last)",
      "Cell \u001b[0;32mIn[42], line 1\u001b[0m\n\u001b[0;32m----> 1\u001b[0m \u001b[43msrinu\u001b[49m\u001b[38;5;241;43m.\u001b[39;49m\u001b[43mphone_number\u001b[49m\n",
      "\u001b[0;31mAttributeError\u001b[0m: 'pwskills3' object has no attribute 'phone_number'"
     ]
    }
   ],
   "source": [
    "srinu.phone_number"
   ]
  },
  {
   "cell_type": "markdown",
   "id": "734ade8b-0058-437e-933d-74d633ee2ce4",
   "metadata": {
    "jp-MarkdownHeadingCollapsed": true,
    "tags": []
   },
   "source": [
    "## Polymorphism"
   ]
  },
  {
   "cell_type": "code",
   "execution_count": 1,
   "id": "c8981bef-7d8b-40c9-9952-665d8847c54c",
   "metadata": {},
   "outputs": [],
   "source": [
    "class data_science:\n",
    "    \n",
    "    def syllabus(self):\n",
    "        print('This is data science syllabus')\n"
   ]
  },
  {
   "cell_type": "code",
   "execution_count": 2,
   "id": "b37d8da7-9a37-4fb9-bf5a-c6fbd5a7a7de",
   "metadata": {},
   "outputs": [],
   "source": [
    "class web_dev:\n",
    "    \n",
    "    def syllabus(self):\n",
    "        print('This is web development syllabus')\n"
   ]
  },
  {
   "cell_type": "code",
   "execution_count": 3,
   "id": "99f7248e-a1f2-4bba-a50c-ba9f25d8a28e",
   "metadata": {},
   "outputs": [],
   "source": [
    "obj_data_science = data_science()\n",
    "obj_web_dev = web_dev()\n",
    "obj_list = [obj_data_science, obj_web_dev]"
   ]
  },
  {
   "cell_type": "code",
   "execution_count": 4,
   "id": "21992ac4-cf5d-4932-a53d-caf8996293a0",
   "metadata": {},
   "outputs": [
    {
     "name": "stdout",
     "output_type": "stream",
     "text": [
      "This is data science syllabus\n",
      "This is web development syllabus\n"
     ]
    }
   ],
   "source": [
    "def class_parser(obj):\n",
    "    for i in obj:\n",
    "        i.syllabus()\n",
    "        \n",
    "class_parser(obj_list)"
   ]
  },
  {
   "cell_type": "markdown",
   "id": "8420485e-2e50-44d2-8adb-20527d2159c9",
   "metadata": {
    "jp-MarkdownHeadingCollapsed": true,
    "tags": []
   },
   "source": [
    "## Encapsulation"
   ]
  },
  {
   "cell_type": "code",
   "execution_count": 5,
   "id": "6cd72041-c303-4f57-a06b-1154552423aa",
   "metadata": {},
   "outputs": [],
   "source": [
    "class test:\n",
    "    \n",
    "    def __init__(self, a, b):\n",
    "        self.a = a\n",
    "        self.b = b\n",
    "        self.result = a + b"
   ]
  },
  {
   "cell_type": "code",
   "execution_count": 6,
   "id": "22f51ae2-426b-4500-8a22-439bbaeec12f",
   "metadata": {},
   "outputs": [],
   "source": [
    "obj = test(3,7)"
   ]
  },
  {
   "cell_type": "code",
   "execution_count": 7,
   "id": "a73b609d-90d5-429a-8e6a-4ba16f00f0d2",
   "metadata": {},
   "outputs": [
    {
     "data": {
      "text/plain": [
       "10"
      ]
     },
     "execution_count": 7,
     "metadata": {},
     "output_type": "execute_result"
    }
   ],
   "source": [
    "obj.result"
   ]
  },
  {
   "cell_type": "code",
   "execution_count": 8,
   "id": "8800c97d-d942-4622-8c17-22e2e9aacb15",
   "metadata": {},
   "outputs": [
    {
     "data": {
      "text/plain": [
       "3"
      ]
     },
     "execution_count": 8,
     "metadata": {},
     "output_type": "execute_result"
    }
   ],
   "source": [
    "obj.a"
   ]
  },
  {
   "cell_type": "code",
   "execution_count": 9,
   "id": "758702f8-4fed-4600-a4a9-f11c38b2cf8c",
   "metadata": {},
   "outputs": [
    {
     "data": {
      "text/plain": [
       "7"
      ]
     },
     "execution_count": 9,
     "metadata": {},
     "output_type": "execute_result"
    }
   ],
   "source": [
    "obj.b"
   ]
  },
  {
   "cell_type": "code",
   "execution_count": 10,
   "id": "a37e2c55-31df-400a-b703-3bd0d14a51bd",
   "metadata": {},
   "outputs": [],
   "source": [
    "obj.a = 10"
   ]
  },
  {
   "cell_type": "code",
   "execution_count": 11,
   "id": "d9508850-7a3e-4b7b-91b9-fd511614bec8",
   "metadata": {},
   "outputs": [
    {
     "data": {
      "text/plain": [
       "10"
      ]
     },
     "execution_count": 11,
     "metadata": {},
     "output_type": "execute_result"
    }
   ],
   "source": [
    "obj.a"
   ]
  },
  {
   "cell_type": "code",
   "execution_count": 12,
   "id": "d929ede7-6743-4289-b517-bcc5010e29f5",
   "metadata": {},
   "outputs": [
    {
     "data": {
      "text/plain": [
       "10"
      ]
     },
     "execution_count": 12,
     "metadata": {},
     "output_type": "execute_result"
    }
   ],
   "source": [
    "obj.result"
   ]
  },
  {
   "cell_type": "code",
   "execution_count": 1,
   "id": "3514a90a-316b-4a80-9a88-a53ee37b840d",
   "metadata": {},
   "outputs": [],
   "source": [
    "class car:\n",
    "    \n",
    "    def __init__(self, year, make, model, speed):\n",
    "        self.__year = year\n",
    "        self.__make = make\n",
    "        self.__model = model\n",
    "        self.__speed = speed\n",
    "        \n",
    "    def set_speed(self, speed):\n",
    "        self.__speed = 0 if speed < 0 else speed\n",
    "    \n",
    "    def get_speed(self):\n",
    "        return self.__speed\n"
   ]
  },
  {
   "cell_type": "code",
   "execution_count": 2,
   "id": "6699fef7-de7f-4861-b5b8-36dd5c813f5b",
   "metadata": {},
   "outputs": [],
   "source": [
    "car_obj = car(2021, 'Hyundai', 'Creta', 129)"
   ]
  },
  {
   "cell_type": "code",
   "execution_count": 3,
   "id": "04968b8d-9252-43cf-9be8-164abcfeec5f",
   "metadata": {},
   "outputs": [
    {
     "ename": "AttributeError",
     "evalue": "'car' object has no attribute '__year'",
     "output_type": "error",
     "traceback": [
      "\u001b[0;31m---------------------------------------------------------------------------\u001b[0m",
      "\u001b[0;31mAttributeError\u001b[0m                            Traceback (most recent call last)",
      "Cell \u001b[0;32mIn[3], line 1\u001b[0m\n\u001b[0;32m----> 1\u001b[0m \u001b[43mcar_obj\u001b[49m\u001b[38;5;241;43m.\u001b[39;49m\u001b[43m__year\u001b[49m\n",
      "\u001b[0;31mAttributeError\u001b[0m: 'car' object has no attribute '__year'"
     ]
    }
   ],
   "source": [
    "car_obj.__year"
   ]
  },
  {
   "cell_type": "code",
   "execution_count": 4,
   "id": "6e13c33c-d5d3-454e-9d60-b7ff75466221",
   "metadata": {},
   "outputs": [
    {
     "data": {
      "text/plain": [
       "2021"
      ]
     },
     "execution_count": 4,
     "metadata": {},
     "output_type": "execute_result"
    }
   ],
   "source": [
    "car_obj._car__year"
   ]
  },
  {
   "cell_type": "code",
   "execution_count": 5,
   "id": "8c955ae7-535e-4a9d-b535-be0da908d634",
   "metadata": {},
   "outputs": [],
   "source": [
    "car_obj._car__year = 2024"
   ]
  },
  {
   "cell_type": "code",
   "execution_count": 6,
   "id": "4106290c-7eb9-4840-adbf-d5490204a2e1",
   "metadata": {},
   "outputs": [
    {
     "data": {
      "text/plain": [
       "2024"
      ]
     },
     "execution_count": 6,
     "metadata": {},
     "output_type": "execute_result"
    }
   ],
   "source": [
    "car_obj._car__year"
   ]
  },
  {
   "cell_type": "code",
   "execution_count": 7,
   "id": "c54b31e4-6be9-465f-9c0d-07547a96e0e4",
   "metadata": {},
   "outputs": [
    {
     "data": {
      "text/plain": [
       "129"
      ]
     },
     "execution_count": 7,
     "metadata": {},
     "output_type": "execute_result"
    }
   ],
   "source": [
    "car_obj.get_speed()"
   ]
  },
  {
   "cell_type": "code",
   "execution_count": 8,
   "id": "11455857-4311-4cd7-93c6-c9c9be859563",
   "metadata": {},
   "outputs": [
    {
     "data": {
      "text/plain": [
       "120"
      ]
     },
     "execution_count": 8,
     "metadata": {},
     "output_type": "execute_result"
    }
   ],
   "source": [
    "car_obj.set_speed(120)\n",
    "car_obj.get_speed()"
   ]
  },
  {
   "cell_type": "code",
   "execution_count": 9,
   "id": "e15f7813-1e00-469c-8ff6-339532e69e86",
   "metadata": {},
   "outputs": [
    {
     "data": {
      "text/plain": [
       "0"
      ]
     },
     "execution_count": 9,
     "metadata": {},
     "output_type": "execute_result"
    }
   ],
   "source": [
    "car_obj.set_speed(-120)\n",
    "car_obj.get_speed()"
   ]
  },
  {
   "cell_type": "code",
   "execution_count": 10,
   "id": "77e76990-adc0-4ddc-8214-3f5d0251b124",
   "metadata": {},
   "outputs": [],
   "source": [
    "class bank_account:\n",
    "    \n",
    "    def __init__(self, balance):\n",
    "        self.__balance = balance\n",
    "    \n",
    "    def withdrawl(self, amount):\n",
    "        if self.__balance < amount:\n",
    "            return False\n",
    "        else:\n",
    "            self.__balance = self.__balance - amount\n",
    "            return True\n",
    "    \n",
    "    def deposit(self, amount):\n",
    "        self.__balance = self.__balance + amount\n",
    "    \n",
    "    def get_balance(self):\n",
    "        return self.__balance"
   ]
  },
  {
   "cell_type": "code",
   "execution_count": 11,
   "id": "0712787e-dec8-4a39-b1d6-5087dc8a947a",
   "metadata": {},
   "outputs": [],
   "source": [
    "obj_bk_act = bank_account(2000)"
   ]
  },
  {
   "cell_type": "code",
   "execution_count": 12,
   "id": "e93ab840-a6ac-443a-997e-f88c056859ac",
   "metadata": {},
   "outputs": [
    {
     "data": {
      "text/plain": [
       "False"
      ]
     },
     "execution_count": 12,
     "metadata": {},
     "output_type": "execute_result"
    }
   ],
   "source": [
    "obj_bk_act.withdrawl(10000)"
   ]
  },
  {
   "cell_type": "code",
   "execution_count": 13,
   "id": "29c22c07-38ab-41e6-91da-728cf2396984",
   "metadata": {},
   "outputs": [],
   "source": [
    "obj_bk_act.deposit(30000)"
   ]
  },
  {
   "cell_type": "code",
   "execution_count": 14,
   "id": "60a26c4f-ac0d-41ca-9a5b-b434afcd6987",
   "metadata": {},
   "outputs": [
    {
     "data": {
      "text/plain": [
       "32000"
      ]
     },
     "execution_count": 14,
     "metadata": {},
     "output_type": "execute_result"
    }
   ],
   "source": [
    "obj_bk_act.get_balance()"
   ]
  },
  {
   "cell_type": "code",
   "execution_count": 15,
   "id": "1ec88c91-88ad-4a71-8daf-90141ff29468",
   "metadata": {},
   "outputs": [
    {
     "data": {
      "text/plain": [
       "True"
      ]
     },
     "execution_count": 15,
     "metadata": {},
     "output_type": "execute_result"
    }
   ],
   "source": [
    "obj_bk_act.withdrawl(10000)"
   ]
  },
  {
   "cell_type": "code",
   "execution_count": 16,
   "id": "d73fe0b7-6fac-4891-9bfb-8129d1bc6eb6",
   "metadata": {},
   "outputs": [
    {
     "data": {
      "text/plain": [
       "22000"
      ]
     },
     "execution_count": 16,
     "metadata": {},
     "output_type": "execute_result"
    }
   ],
   "source": [
    "obj_bk_act.get_balance()"
   ]
  },
  {
   "cell_type": "markdown",
   "id": "84aca503-98ed-487c-9498-b7c75baddad6",
   "metadata": {
    "jp-MarkdownHeadingCollapsed": true,
    "tags": []
   },
   "source": [
    "## Inheritance"
   ]
  },
  {
   "cell_type": "code",
   "execution_count": 2,
   "id": "d30417cb-2bbd-4c47-9433-a2b09e46b07b",
   "metadata": {},
   "outputs": [],
   "source": [
    "class parent:\n",
    "    \n",
    "    def test_parent(self):\n",
    "        print('Called Parent')"
   ]
  },
  {
   "cell_type": "code",
   "execution_count": 3,
   "id": "80c0b1f6-132d-4096-93eb-a3df7b7e5363",
   "metadata": {},
   "outputs": [],
   "source": [
    "class child(parent):\n",
    "    \n",
    "    pass"
   ]
  },
  {
   "cell_type": "code",
   "execution_count": 4,
   "id": "b8fe2766-6fbd-44a0-a998-87ab45aef9af",
   "metadata": {},
   "outputs": [],
   "source": [
    "obj = child()"
   ]
  },
  {
   "cell_type": "code",
   "execution_count": 5,
   "id": "cd8bde09-8a03-481f-a692-a2ec487e6c2f",
   "metadata": {},
   "outputs": [
    {
     "name": "stdout",
     "output_type": "stream",
     "text": [
      "Called Parent\n"
     ]
    }
   ],
   "source": [
    "obj.test_parent()"
   ]
  },
  {
   "cell_type": "code",
   "execution_count": 35,
   "id": "37b36284-5997-4737-97a2-0085c5355662",
   "metadata": {},
   "outputs": [],
   "source": [
    "class class1:\n",
    "    \n",
    "    def test_class1(self):\n",
    "        print('Called Class1')"
   ]
  },
  {
   "cell_type": "code",
   "execution_count": 36,
   "id": "40e4ceaa-decc-4755-a1d2-0f0609460cdc",
   "metadata": {},
   "outputs": [],
   "source": [
    "class class2(class1):\n",
    "    \n",
    "    def test_class2(self):\n",
    "        print('Called Class2')"
   ]
  },
  {
   "cell_type": "code",
   "execution_count": 37,
   "id": "555c30a4-de98-48d3-89e1-12a831f56698",
   "metadata": {},
   "outputs": [],
   "source": [
    "class class3(class2):\n",
    "    \n",
    "    def test_class3(self):\n",
    "        print('Called Class3')"
   ]
  },
  {
   "cell_type": "code",
   "execution_count": 38,
   "id": "0aa4c664-1dc9-47b1-bce3-d6072e13aa55",
   "metadata": {},
   "outputs": [],
   "source": [
    "obj_class = class3()"
   ]
  },
  {
   "cell_type": "code",
   "execution_count": 39,
   "id": "f8dea140-ed7a-4fdf-9d62-9f0eb74e654f",
   "metadata": {},
   "outputs": [
    {
     "name": "stdout",
     "output_type": "stream",
     "text": [
      "Called Class1\n"
     ]
    }
   ],
   "source": [
    "obj_class.test_class1()"
   ]
  },
  {
   "cell_type": "code",
   "execution_count": 11,
   "id": "a3e2dbd7-9fed-4655-8877-0f3a901b728b",
   "metadata": {},
   "outputs": [
    {
     "name": "stdout",
     "output_type": "stream",
     "text": [
      "Called Class2\n"
     ]
    }
   ],
   "source": [
    "obj_class.test_class2()"
   ]
  },
  {
   "cell_type": "code",
   "execution_count": 12,
   "id": "756d39d3-d697-4e25-bb0f-1ca0000b3a45",
   "metadata": {},
   "outputs": [
    {
     "name": "stdout",
     "output_type": "stream",
     "text": [
      "Called Class3\n"
     ]
    }
   ],
   "source": [
    "obj_class.test_class3()"
   ]
  },
  {
   "cell_type": "code",
   "execution_count": 13,
   "id": "b12747aa-9588-4323-8643-0784f2154594",
   "metadata": {},
   "outputs": [],
   "source": [
    "class class4:\n",
    "    \n",
    "    def test_class4(self):\n",
    "        print('Called Class4')"
   ]
  },
  {
   "cell_type": "code",
   "execution_count": 14,
   "id": "08e0647f-e66c-432b-a499-edc0672f968f",
   "metadata": {},
   "outputs": [],
   "source": [
    "class class5(class4):\n",
    "    \n",
    "    def test_class5(self):\n",
    "        print('Called Class5')"
   ]
  },
  {
   "cell_type": "code",
   "execution_count": 15,
   "id": "b7ed2162-0dda-4185-8428-ae9aa91c298e",
   "metadata": {},
   "outputs": [],
   "source": [
    "class class6(class4):\n",
    "    \n",
    "    def test_class6(self):\n",
    "        print('Called Class6')"
   ]
  },
  {
   "cell_type": "code",
   "execution_count": 16,
   "id": "6a70c336-82ea-4108-bfe1-05e81a9b15ba",
   "metadata": {},
   "outputs": [],
   "source": [
    "class class7(class3, class6):\n",
    "    pass"
   ]
  },
  {
   "cell_type": "code",
   "execution_count": 17,
   "id": "efe142ca-fc99-4831-9178-46c28467c54a",
   "metadata": {},
   "outputs": [],
   "source": [
    "obj_1 = class7()"
   ]
  },
  {
   "cell_type": "code",
   "execution_count": 19,
   "id": "6a84ce56-2191-4f90-96e0-43e344c26bd9",
   "metadata": {},
   "outputs": [
    {
     "name": "stdout",
     "output_type": "stream",
     "text": [
      "Called Class1\n"
     ]
    }
   ],
   "source": [
    "obj_1.test_class1()"
   ]
  },
  {
   "cell_type": "code",
   "execution_count": 20,
   "id": "346ee8cc-ebc9-41c8-98d5-0d40b0b9d920",
   "metadata": {},
   "outputs": [
    {
     "name": "stdout",
     "output_type": "stream",
     "text": [
      "Called Class2\n"
     ]
    }
   ],
   "source": [
    "obj_1.test_class2()"
   ]
  },
  {
   "cell_type": "code",
   "execution_count": 21,
   "id": "931ec4b0-714d-4954-9476-5f39fac2ba7b",
   "metadata": {},
   "outputs": [
    {
     "name": "stdout",
     "output_type": "stream",
     "text": [
      "Called Class3\n"
     ]
    }
   ],
   "source": [
    "obj_1.test_class3()"
   ]
  },
  {
   "cell_type": "code",
   "execution_count": 22,
   "id": "40d84fba-4921-4ffd-89d4-e125553089dc",
   "metadata": {},
   "outputs": [
    {
     "name": "stdout",
     "output_type": "stream",
     "text": [
      "Called Class4\n"
     ]
    }
   ],
   "source": [
    "obj_1.test_class4()"
   ]
  },
  {
   "cell_type": "code",
   "execution_count": 23,
   "id": "660a8803-73ec-4cdc-a0e7-fb59ef827d5b",
   "metadata": {},
   "outputs": [
    {
     "name": "stdout",
     "output_type": "stream",
     "text": [
      "Called Class6\n"
     ]
    }
   ],
   "source": [
    "obj_1.test_class6()"
   ]
  },
  {
   "cell_type": "markdown",
   "id": "6b4d5b0d-8fe7-4544-8aa3-db1619a53188",
   "metadata": {
    "jp-MarkdownHeadingCollapsed": true,
    "tags": []
   },
   "source": [
    "## Abstraction"
   ]
  },
  {
   "cell_type": "code",
   "execution_count": 40,
   "id": "575087ff-afe2-4b6e-b1fb-72e8038bc9a4",
   "metadata": {},
   "outputs": [],
   "source": [
    "import abc\n",
    "\n",
    "class pwskills:\n",
    "    \n",
    "    @abc.abstractmethod\n",
    "    def student_details(self):\n",
    "        pass\n",
    "    \n",
    "    @abc.abstractmethod\n",
    "    def student_assignment(self):\n",
    "        pass\n",
    "    @abc.abstractmethod\n",
    "    def student_marks(self):\n",
    "        pass"
   ]
  },
  {
   "cell_type": "code",
   "execution_count": 41,
   "id": "85d134e8-f8e5-4562-a2b5-a4a47d7a24f6",
   "metadata": {},
   "outputs": [],
   "source": [
    "class data_science(pwskills):\n",
    "    \n",
    "    def student_details(self):\n",
    "        return 'It will try to return student details of data science'\n",
    "    \n",
    "    def student_assignment(self):\n",
    "        return 'It will try to return student assignment details of data science'\n",
    "    "
   ]
  },
  {
   "cell_type": "code",
   "execution_count": 42,
   "id": "3f15d343-7fa2-4a5f-b366-fe8a99d3b464",
   "metadata": {},
   "outputs": [],
   "source": [
    "class web_dev(pwskills):\n",
    "    \n",
    "    def student_details(self):\n",
    "        return 'It will try to return student details of web development'\n",
    "    \n",
    "    def student_marks(self):\n",
    "        return 'It will try to return student marks of web development'\n"
   ]
  },
  {
   "cell_type": "code",
   "execution_count": 43,
   "id": "aacf62cb-1931-44fc-94c3-23a6cb54a3fb",
   "metadata": {},
   "outputs": [],
   "source": [
    "ds = data_science()"
   ]
  },
  {
   "cell_type": "code",
   "execution_count": 44,
   "id": "dd23a637-21d4-42e5-bf56-0b3061fa9c66",
   "metadata": {},
   "outputs": [],
   "source": [
    "ds.student_marks()"
   ]
  },
  {
   "cell_type": "code",
   "execution_count": 46,
   "id": "61380f3c-821f-4fd4-87a9-8f07bdd2bdb5",
   "metadata": {},
   "outputs": [
    {
     "data": {
      "text/plain": [
       "'It will try to return student details of data science'"
      ]
     },
     "execution_count": 46,
     "metadata": {},
     "output_type": "execute_result"
    }
   ],
   "source": [
    "ds.student_details()"
   ]
  },
  {
   "cell_type": "code",
   "execution_count": 47,
   "id": "d22689b8-28e7-4545-a8f1-4df647db235f",
   "metadata": {},
   "outputs": [
    {
     "data": {
      "text/plain": [
       "'It will try to return student assignment details of data science'"
      ]
     },
     "execution_count": 47,
     "metadata": {},
     "output_type": "execute_result"
    }
   ],
   "source": [
    "ds.student_assignment()"
   ]
  },
  {
   "cell_type": "markdown",
   "id": "0629bf5e-08b3-49bf-9e9a-af1c1899b9fe",
   "metadata": {
    "tags": []
   },
   "source": [
    "## Decorators"
   ]
  },
  {
   "cell_type": "code",
   "execution_count": 48,
   "id": "1fa4038f-d292-4188-9272-ce71393d5c7c",
   "metadata": {},
   "outputs": [],
   "source": [
    "def test1():\n",
    "    print(4+5)"
   ]
  },
  {
   "cell_type": "code",
   "execution_count": 49,
   "id": "c910fd93-05b2-4267-bc6b-dd92fe67a41c",
   "metadata": {},
   "outputs": [
    {
     "name": "stdout",
     "output_type": "stream",
     "text": [
      "9\n"
     ]
    }
   ],
   "source": [
    "test1()"
   ]
  },
  {
   "cell_type": "code",
   "execution_count": 51,
   "id": "61355f60-2182-410a-8b25-4531af4e815e",
   "metadata": {},
   "outputs": [],
   "source": [
    "def deco(func):\n",
    "    def deco_inner():\n",
    "        print('This is the Start of Function')\n",
    "        func()\n",
    "        print('This is the end of Function')\n",
    "    return deco_inner\n"
   ]
  },
  {
   "cell_type": "code",
   "execution_count": 52,
   "id": "59a97ebf-e007-48ed-bfb1-6391bf23ce1e",
   "metadata": {},
   "outputs": [],
   "source": [
    "@deco\n",
    "def test1():\n",
    "    print(4+5)"
   ]
  },
  {
   "cell_type": "code",
   "execution_count": 53,
   "id": "50ba37cf-4485-43e9-8202-15c8bcce7daa",
   "metadata": {},
   "outputs": [
    {
     "name": "stdout",
     "output_type": "stream",
     "text": [
      "This is the Start of Function\n",
      "9\n",
      "This is the end of Function\n"
     ]
    }
   ],
   "source": [
    "test1()"
   ]
  },
  {
   "cell_type": "code",
   "execution_count": 55,
   "id": "c0193bb4-552c-4309-93c4-4bfbeed86f64",
   "metadata": {},
   "outputs": [],
   "source": [
    "import time\n",
    "\n",
    "def timer_test(func):\n",
    "    def timer_test_inner():\n",
    "        start = time.time()\n",
    "        func()\n",
    "        end = time.time()\n",
    "        print(end-start)\n",
    "    return timer_test_inner\n"
   ]
  },
  {
   "cell_type": "code",
   "execution_count": 58,
   "id": "65fcf3aa-24cf-45d6-a5a6-844f49386d28",
   "metadata": {},
   "outputs": [],
   "source": [
    "@timer_test\n",
    "def test1():\n",
    "    print(87+59)"
   ]
  },
  {
   "cell_type": "code",
   "execution_count": 59,
   "id": "e94b477a-e8e9-49b8-8780-b80c38202a70",
   "metadata": {},
   "outputs": [
    {
     "name": "stdout",
     "output_type": "stream",
     "text": [
      "146\n",
      "4.887580871582031e-05\n"
     ]
    }
   ],
   "source": [
    "test1()"
   ]
  },
  {
   "cell_type": "code",
   "execution_count": 61,
   "id": "7048be69-4531-4397-8502-19ebdc19526a",
   "metadata": {},
   "outputs": [],
   "source": [
    "@timer_test\n",
    "def test2():\n",
    "    for i in range(10000):\n",
    "        pass"
   ]
  },
  {
   "cell_type": "code",
   "execution_count": 62,
   "id": "15f9f71d-5129-4150-be11-9aa93980ec7e",
   "metadata": {},
   "outputs": [
    {
     "name": "stdout",
     "output_type": "stream",
     "text": [
      "0.00024437904357910156\n"
     ]
    }
   ],
   "source": [
    "test2()"
   ]
  },
  {
   "cell_type": "markdown",
   "id": "ad6a0b65-1d15-46b8-aad7-5d33af23e3ec",
   "metadata": {
    "jp-MarkdownHeadingCollapsed": true,
    "tags": []
   },
   "source": [
    "## Class Method"
   ]
  },
  {
   "cell_type": "code",
   "execution_count": 7,
   "id": "8c17ff8d-e769-4bb2-b3e4-aa852f1ad680",
   "metadata": {},
   "outputs": [],
   "source": [
    "class pwskills1:\n",
    "    \n",
    "    def __init__(self, name, email):\n",
    "        \n",
    "        self.name = name\n",
    "        self.email = email\n",
    "        \n",
    "    # another way to declare an object - class method\n",
    "    @classmethod\n",
    "    def details(cls, name1, email1):\n",
    "        return cls(name1, email1)\n",
    "        \n",
    "    def student_details(self):\n",
    "        print(self.name, self.email)"
   ]
  },
  {
   "cell_type": "code",
   "execution_count": 8,
   "id": "14626b11-dbbf-4f2e-9a0d-2c50a01eba01",
   "metadata": {},
   "outputs": [],
   "source": [
    "pw1 = pwskills1.details('mohan', 'mohan@gmail.com')"
   ]
  },
  {
   "cell_type": "code",
   "execution_count": 9,
   "id": "6b874c46-b9f8-444d-aab0-ca6926623f45",
   "metadata": {},
   "outputs": [
    {
     "data": {
      "text/plain": [
       "'mohan'"
      ]
     },
     "execution_count": 9,
     "metadata": {},
     "output_type": "execute_result"
    }
   ],
   "source": [
    "pw1.name"
   ]
  },
  {
   "cell_type": "code",
   "execution_count": 10,
   "id": "ad4fcd8a-08a7-4452-b7f2-b164c0900c56",
   "metadata": {},
   "outputs": [
    {
     "data": {
      "text/plain": [
       "'mohan@gmail.com'"
      ]
     },
     "execution_count": 10,
     "metadata": {},
     "output_type": "execute_result"
    }
   ],
   "source": [
    "pw1.email"
   ]
  },
  {
   "cell_type": "code",
   "execution_count": 11,
   "id": "5c1353ea-546c-4c81-af82-d6f47831a9b2",
   "metadata": {},
   "outputs": [
    {
     "name": "stdout",
     "output_type": "stream",
     "text": [
      "mohan mohan@gmail.com\n"
     ]
    }
   ],
   "source": [
    "pw1.student_details()"
   ]
  },
  {
   "cell_type": "code",
   "execution_count": 39,
   "id": "66da66a8-0a14-411e-9c27-daa7c47343c2",
   "metadata": {},
   "outputs": [],
   "source": [
    "class pwskills2:\n",
    "    \n",
    "    mobile_number = 9876543212\n",
    "    \n",
    "    def __init__(self, name, email):\n",
    "        \n",
    "        self.name = name\n",
    "        self.email = email\n",
    "        \n",
    "    # another way to declare an object - class method\n",
    "    @classmethod\n",
    "    def details(cls, name1, email1):\n",
    "        return cls(name1, email1)\n",
    "    \n",
    "    # change my phone number\n",
    "    @classmethod\n",
    "    def change_number(cls, mobile):\n",
    "        pwskills2.mobile_number = mobile\n",
    "        \n",
    "    def student_details(self):\n",
    "        print(self.name, self.email, pwskills2.mobile_number)"
   ]
  },
  {
   "cell_type": "code",
   "execution_count": 40,
   "id": "a4860d22-21fc-4550-802c-8228a1138dfe",
   "metadata": {},
   "outputs": [
    {
     "data": {
      "text/plain": [
       "9876543212"
      ]
     },
     "execution_count": 40,
     "metadata": {},
     "output_type": "execute_result"
    }
   ],
   "source": [
    "pwskills2.mobile_number"
   ]
  },
  {
   "cell_type": "code",
   "execution_count": 41,
   "id": "d78956ce-1afc-4f27-94f7-86e71dd33d60",
   "metadata": {},
   "outputs": [],
   "source": [
    "pw2 = pwskills2.details('sohan', 'sohan@gmail.com')"
   ]
  },
  {
   "cell_type": "code",
   "execution_count": 42,
   "id": "6d58ca7e-db3b-4941-9bf9-56e9a9f17e93",
   "metadata": {},
   "outputs": [
    {
     "name": "stdout",
     "output_type": "stream",
     "text": [
      "sohan sohan@gmail.com 9876543212\n"
     ]
    }
   ],
   "source": [
    "pw2.student_details()"
   ]
  },
  {
   "cell_type": "code",
   "execution_count": 43,
   "id": "e5a659df-9688-45d0-b31f-722b23832121",
   "metadata": {},
   "outputs": [],
   "source": [
    "pw2_obj = pwskills2('rohan', 'rohan@gmail.com')"
   ]
  },
  {
   "cell_type": "code",
   "execution_count": 44,
   "id": "f0a7c5b0-457a-49cb-a021-24d6595552cd",
   "metadata": {},
   "outputs": [
    {
     "name": "stdout",
     "output_type": "stream",
     "text": [
      "rohan rohan@gmail.com 9876543212\n"
     ]
    }
   ],
   "source": [
    "pw2_obj.student_details()"
   ]
  },
  {
   "cell_type": "code",
   "execution_count": 45,
   "id": "5b6da7ab-439b-414b-81f2-7fd3357f10cd",
   "metadata": {},
   "outputs": [],
   "source": [
    "pwskills2.change_number(9786755343)"
   ]
  },
  {
   "cell_type": "code",
   "execution_count": 46,
   "id": "250319cb-b23b-4c59-9528-c00c7c4c08cd",
   "metadata": {},
   "outputs": [
    {
     "data": {
      "text/plain": [
       "9786755343"
      ]
     },
     "execution_count": 46,
     "metadata": {},
     "output_type": "execute_result"
    }
   ],
   "source": [
    "pwskills2.mobile_number"
   ]
  },
  {
   "cell_type": "code",
   "execution_count": 47,
   "id": "6e488dfe-e06e-4764-9f1f-a9c0e2e8554f",
   "metadata": {},
   "outputs": [],
   "source": [
    "pw3_obj = pwskills2('sohil', 'sohil@gmail.com')"
   ]
  },
  {
   "cell_type": "code",
   "execution_count": 48,
   "id": "b883389a-8641-4a4d-8f0a-e2ff456cb61a",
   "metadata": {},
   "outputs": [
    {
     "data": {
      "text/plain": [
       "<__main__.pwskills2 at 0x7f02d19e9510>"
      ]
     },
     "execution_count": 48,
     "metadata": {},
     "output_type": "execute_result"
    }
   ],
   "source": [
    "pw3_obj.details('sudh', 'sudh@gmail.com')"
   ]
  },
  {
   "cell_type": "code",
   "execution_count": 50,
   "id": "24aeddb8-1de4-4cc4-956a-2269a88b2f21",
   "metadata": {},
   "outputs": [
    {
     "name": "stdout",
     "output_type": "stream",
     "text": [
      "sohil sohil@gmail.com 9786755343\n"
     ]
    }
   ],
   "source": [
    "pw3_obj.student_details()"
   ]
  },
  {
   "cell_type": "code",
   "execution_count": 51,
   "id": "5a27bd5b-654e-48eb-89e1-77657cec4899",
   "metadata": {},
   "outputs": [],
   "source": [
    "pw3_obj.change_number(8765347188)"
   ]
  },
  {
   "cell_type": "code",
   "execution_count": 52,
   "id": "c701e65d-bc4b-4289-8a4f-c57319d2cb0f",
   "metadata": {},
   "outputs": [
    {
     "data": {
      "text/plain": [
       "8765347188"
      ]
     },
     "execution_count": 52,
     "metadata": {},
     "output_type": "execute_result"
    }
   ],
   "source": [
    "pw3_obj.mobile_number"
   ]
  },
  {
   "cell_type": "code",
   "execution_count": 53,
   "id": "c7cb1518-5f60-4278-982f-44d916e735b0",
   "metadata": {},
   "outputs": [
    {
     "data": {
      "text/plain": [
       "8765347188"
      ]
     },
     "execution_count": 53,
     "metadata": {},
     "output_type": "execute_result"
    }
   ],
   "source": [
    "pwskills2.mobile_number"
   ]
  },
  {
   "cell_type": "code",
   "execution_count": 54,
   "id": "eed1d87a-8d64-4793-a47c-5c738b2d4bb2",
   "metadata": {},
   "outputs": [],
   "source": [
    "class pwskills3:\n",
    "    \n",
    "    mobile_number = 9876543212\n",
    "    \n",
    "    def __init__(self, name, email):\n",
    "        \n",
    "        self.name = name\n",
    "        self.email = email\n",
    "        \n",
    "    # another way to declare an object - class method\n",
    "    @classmethod\n",
    "    def details(cls, name1, email1):\n",
    "        return cls(name1, email1)\n",
    "    \n",
    "    # change my phone number\n",
    "    @classmethod\n",
    "    def change_number(cls, mobile):\n",
    "        pwskills2.mobile_number = mobile\n",
    "        \n",
    "    def student_details(self):\n",
    "        print(self.name, self.email, pwskills2.mobile_number)"
   ]
  },
  {
   "cell_type": "code",
   "execution_count": 56,
   "id": "1f55ec5c-ec6e-4612-a559-c48bb631dc74",
   "metadata": {},
   "outputs": [],
   "source": [
    "def course_details(cls, course_name):\n",
    "    print(\"course details\", course_name)"
   ]
  },
  {
   "cell_type": "code",
   "execution_count": 57,
   "id": "4748e4b4-4288-4ddd-8123-4048ad8a4b2e",
   "metadata": {},
   "outputs": [],
   "source": [
    "pwskills3.course_details = classmethod(course_details)"
   ]
  },
  {
   "cell_type": "code",
   "execution_count": 58,
   "id": "92f0ae87-225e-4931-bdce-0e74b93d8f4a",
   "metadata": {},
   "outputs": [
    {
     "name": "stdout",
     "output_type": "stream",
     "text": [
      "course details data science masters\n"
     ]
    }
   ],
   "source": [
    "pwskills3.course_details(\"data science masters\")"
   ]
  },
  {
   "cell_type": "code",
   "execution_count": 59,
   "id": "9931085b-4e1c-4405-90e1-90b32b9121ff",
   "metadata": {},
   "outputs": [],
   "source": [
    "pw3 = pwskills3('sudh', 'sudh@gmail.com')"
   ]
  },
  {
   "cell_type": "code",
   "execution_count": 60,
   "id": "1c7e6ce2-0cd0-42f9-9e53-b171cfa18f18",
   "metadata": {},
   "outputs": [
    {
     "name": "stdout",
     "output_type": "stream",
     "text": [
      "course details web dev\n"
     ]
    }
   ],
   "source": [
    "pw3.course_details('web dev')"
   ]
  },
  {
   "cell_type": "markdown",
   "id": "56f92b23-e523-44fc-b79b-e980ad74cf2b",
   "metadata": {
    "jp-MarkdownHeadingCollapsed": true,
    "tags": []
   },
   "source": [
    "## Static Method"
   ]
  },
  {
   "cell_type": "code",
   "execution_count": 61,
   "id": "4ce40cd2-a252-4f83-ad38-919015a9bba8",
   "metadata": {},
   "outputs": [],
   "source": [
    "class pwskills1:\n",
    "    def student_details(self, name, email, number):\n",
    "        print(name, email, number)\n",
    "    \n",
    "    @staticmethod\n",
    "    def mentor_class(list_mentor):\n",
    "        print(list_mentor)\n",
    "        \n",
    "    def mentor(self, mentor_list):\n",
    "        print(mentor_list)"
   ]
  },
  {
   "cell_type": "code",
   "execution_count": 62,
   "id": "a3d93be5-8251-40a6-a2a4-57930d28fa4e",
   "metadata": {},
   "outputs": [],
   "source": [
    "pw1 = pwskills1()"
   ]
  },
  {
   "cell_type": "code",
   "execution_count": 63,
   "id": "029de100-d7a3-466e-ab79-6dde94104873",
   "metadata": {},
   "outputs": [
    {
     "name": "stdout",
     "output_type": "stream",
     "text": [
      "['krish', 'sudh']\n"
     ]
    }
   ],
   "source": [
    "pw1.mentor(['krish', 'sudh'])"
   ]
  },
  {
   "cell_type": "code",
   "execution_count": 64,
   "id": "3dffb980-92f8-4c6e-8c81-0e59cb5357de",
   "metadata": {},
   "outputs": [
    {
     "name": "stdout",
     "output_type": "stream",
     "text": [
      "['krish', 'sudh']\n"
     ]
    }
   ],
   "source": [
    "pw1.mentor_class(['krish', 'sudh'])"
   ]
  },
  {
   "cell_type": "code",
   "execution_count": 65,
   "id": "8c88a5d1-2ce6-4cb8-875d-5a4e4298ec39",
   "metadata": {},
   "outputs": [
    {
     "name": "stdout",
     "output_type": "stream",
     "text": [
      "['krish', 'sudh']\n"
     ]
    }
   ],
   "source": [
    "pwskills1.mentor_class(['krish', 'sudh'])"
   ]
  },
  {
   "cell_type": "markdown",
   "id": "78ea5607-ef7d-4a17-ad7f-5969480b6508",
   "metadata": {
    "jp-MarkdownHeadingCollapsed": true,
    "tags": []
   },
   "source": [
    "## Property Decorators"
   ]
  },
  {
   "cell_type": "code",
   "execution_count": 17,
   "id": "f9065d76-55ba-4461-af80-c9516865f4b9",
   "metadata": {},
   "outputs": [],
   "source": [
    "class pwskills:\n",
    "    \n",
    "    def __init__(self, course_price, course_name):\n",
    "        self.__course_price = course_price\n",
    "        self.course_name = course_name\n",
    "        \n",
    "    @property\n",
    "    def course_price_access(self):\n",
    "        return self.__course_price\n",
    "    \n",
    "    @course_price_access.setter\n",
    "    def course_price_set(self, price):\n",
    "        if price < 3500:\n",
    "            pass\n",
    "        else:\n",
    "            self.__course_price = price\n",
    "            \n",
    "    @course_price_access.deleter\n",
    "    def course_price_del(self):\n",
    "        del self.__course_price"
   ]
  },
  {
   "cell_type": "code",
   "execution_count": 18,
   "id": "b4453f8c-1863-4327-93a5-427aebc75215",
   "metadata": {},
   "outputs": [],
   "source": [
    "pw = pwskills(3500, 'data science')"
   ]
  },
  {
   "cell_type": "code",
   "execution_count": 19,
   "id": "d153d87b-e352-4c74-9e67-3fe1d7b7363b",
   "metadata": {},
   "outputs": [
    {
     "data": {
      "text/plain": [
       "'data science'"
      ]
     },
     "execution_count": 19,
     "metadata": {},
     "output_type": "execute_result"
    }
   ],
   "source": [
    "pw.course_name"
   ]
  },
  {
   "cell_type": "code",
   "execution_count": 20,
   "id": "62ddf428-0efd-4ac9-a6a8-acb87673d7f7",
   "metadata": {},
   "outputs": [
    {
     "data": {
      "text/plain": [
       "3500"
      ]
     },
     "execution_count": 20,
     "metadata": {},
     "output_type": "execute_result"
    }
   ],
   "source": [
    "pw.course_price_access"
   ]
  },
  {
   "cell_type": "code",
   "execution_count": 25,
   "id": "f35de85d-025d-4b57-ab23-e6a1b7853308",
   "metadata": {},
   "outputs": [],
   "source": [
    "pw.course_price_set = 4500"
   ]
  },
  {
   "cell_type": "code",
   "execution_count": 26,
   "id": "2b0900f6-8606-4b58-9dc0-f60c10aa56d7",
   "metadata": {},
   "outputs": [
    {
     "data": {
      "text/plain": [
       "4500"
      ]
     },
     "execution_count": 26,
     "metadata": {},
     "output_type": "execute_result"
    }
   ],
   "source": [
    "pw.course_price_set"
   ]
  },
  {
   "cell_type": "code",
   "execution_count": 27,
   "id": "8f681e3f-e4c2-4fb4-b9a8-1825c5411037",
   "metadata": {},
   "outputs": [],
   "source": [
    "del pw.course_price_del"
   ]
  },
  {
   "cell_type": "code",
   "execution_count": 28,
   "id": "71c4e526-f4da-452d-8e33-df0541311442",
   "metadata": {},
   "outputs": [
    {
     "ename": "AttributeError",
     "evalue": "'pwskills' object has no attribute '_pwskills__course_price'",
     "output_type": "error",
     "traceback": [
      "\u001b[0;31m---------------------------------------------------------------------------\u001b[0m",
      "\u001b[0;31mAttributeError\u001b[0m                            Traceback (most recent call last)",
      "Cell \u001b[0;32mIn[28], line 1\u001b[0m\n\u001b[0;32m----> 1\u001b[0m \u001b[43mpw\u001b[49m\u001b[38;5;241;43m.\u001b[39;49m\u001b[43mcourse_price_access\u001b[49m\n",
      "Cell \u001b[0;32mIn[17], line 9\u001b[0m, in \u001b[0;36mpwskills.course_price_access\u001b[0;34m(self)\u001b[0m\n\u001b[1;32m      7\u001b[0m \u001b[38;5;129m@property\u001b[39m\n\u001b[1;32m      8\u001b[0m \u001b[38;5;28;01mdef\u001b[39;00m \u001b[38;5;21mcourse_price_access\u001b[39m(\u001b[38;5;28mself\u001b[39m):\n\u001b[0;32m----> 9\u001b[0m     \u001b[38;5;28;01mreturn\u001b[39;00m \u001b[38;5;28;43mself\u001b[39;49m\u001b[38;5;241;43m.\u001b[39;49m\u001b[43m__course_price\u001b[49m\n",
      "\u001b[0;31mAttributeError\u001b[0m: 'pwskills' object has no attribute '_pwskills__course_price'"
     ]
    }
   ],
   "source": [
    "pw.course_price_access"
   ]
  },
  {
   "cell_type": "code",
   "execution_count": 6,
   "id": "17040ffd-a171-402c-8f03-fe816b579179",
   "metadata": {},
   "outputs": [
    {
     "name": "stdout",
     "output_type": "stream",
     "text": [
      "5 6\n"
     ]
    }
   ],
   "source": [
    "class parent:\n",
    "\n",
    "\t\t\tdef __init__(self, a,b):\n",
    "\n",
    "\t\t\t\tself.a = a\n",
    "\n",
    "\t\t\t\tself.b = b\n",
    "\n",
    "\t\t\t\n",
    "\n",
    "\t\t\tdef getvalue(self):\n",
    "\n",
    "\t\t\t\tprint(self.a,self.b)\n",
    "\n",
    "\n",
    "\n",
    "class child(parent):\n",
    "\n",
    "\t\t\tpass\n",
    "\n",
    "\n",
    "\n",
    "obj = child(5,6)\n",
    "\n",
    "obj.getvalue()\n",
    "\n"
   ]
  },
  {
   "cell_type": "code",
   "execution_count": 14,
   "id": "361e3c02-67a1-4e62-9199-c5763d6f9f72",
   "metadata": {},
   "outputs": [],
   "source": [
    "import time\n",
    "\n",
    "\n",
    "def runtime(func):\n",
    "    def runtime_inner():\n",
    "        start = time.time()\n",
    "        func()\n",
    "        end = time.time()\n",
    "        print(end-start)\n",
    "    return runtime_inner\n"
   ]
  },
  {
   "cell_type": "code",
   "execution_count": 15,
   "id": "557894a7-e1fa-4c2b-8c9f-a4eacd9397fb",
   "metadata": {},
   "outputs": [],
   "source": [
    "@runtime\n",
    "def test1():\n",
    "    print(78+59)"
   ]
  },
  {
   "cell_type": "code",
   "execution_count": 16,
   "id": "2c9614a1-5231-4edf-bad8-4bd465d582e4",
   "metadata": {},
   "outputs": [
    {
     "name": "stdout",
     "output_type": "stream",
     "text": [
      "137\n",
      "5.078315734863281e-05\n",
      "None\n"
     ]
    }
   ],
   "source": [
    "print(test1())"
   ]
  },
  {
   "cell_type": "code",
   "execution_count": null,
   "id": "cf6770ef-8147-40bc-95d9-4300537f2b9e",
   "metadata": {},
   "outputs": [],
   "source": []
  }
 ],
 "metadata": {
  "kernelspec": {
   "display_name": "Python 3 (ipykernel)",
   "language": "python",
   "name": "python3"
  },
  "language_info": {
   "codemirror_mode": {
    "name": "ipython",
    "version": 3
   },
   "file_extension": ".py",
   "mimetype": "text/x-python",
   "name": "python",
   "nbconvert_exporter": "python",
   "pygments_lexer": "ipython3",
   "version": "3.10.8"
  }
 },
 "nbformat": 4,
 "nbformat_minor": 5
}
