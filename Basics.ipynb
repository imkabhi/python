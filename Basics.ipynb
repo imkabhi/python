{
 "cells": [
  {
   "cell_type": "code",
   "execution_count": 1,
   "id": "0d69a33d-a513-4ced-a3fd-bdd41574a25f",
   "metadata": {},
   "outputs": [
    {
     "data": {
      "text/plain": [
       "False"
      ]
     },
     "execution_count": 1,
     "metadata": {},
     "output_type": "execute_result"
    }
   ],
   "source": [
    "not 4"
   ]
  },
  {
   "cell_type": "code",
   "execution_count": 2,
   "id": "d6bc9c6e-c316-4294-aeb4-233a2ed9712a",
   "metadata": {},
   "outputs": [
    {
     "data": {
      "text/plain": [
       "True"
      ]
     },
     "execution_count": 2,
     "metadata": {},
     "output_type": "execute_result"
    }
   ],
   "source": [
    "a = 9\n",
    "b = 7\n",
    "\n",
    "a > b or b > a"
   ]
  },
  {
   "cell_type": "code",
   "execution_count": 3,
   "id": "f2af7ea1-f7ea-4f0a-861e-b6eca8f2bad6",
   "metadata": {},
   "outputs": [
    {
     "data": {
      "text/plain": [
       "{1: 'abhi', 2: 'abhi', 3: 'abhi'}"
      ]
     },
     "execution_count": 3,
     "metadata": {},
     "output_type": "execute_result"
    }
   ],
   "source": [
    "d = {}\n",
    "d.fromkeys((1,2,3), 'abhi')"
   ]
  },
  {
   "cell_type": "code",
   "execution_count": 5,
   "id": "56994ef3-f5f8-4ee1-8c12-61bbcae83c17",
   "metadata": {},
   "outputs": [
    {
     "name": "stdout",
     "output_type": "stream",
     "text": [
      "{'key1': 'value1', 'key2': 'value2', 'key3': 'value3', 'key4': 'value4'}\n",
      "{'key3': 'value3', 'key4': 'value4'}\n"
     ]
    }
   ],
   "source": [
    "d1 = {'key1' : 'value1', 'key2' : 'value2'}\n",
    "d2 = {'key3' : 'value3', 'key4' : 'value4'}\n",
    "\n",
    "d1.update(d2)\n",
    "print(d1)\n",
    "print(d2)"
   ]
  },
  {
   "cell_type": "code",
   "execution_count": 12,
   "id": "75ee40d9-493b-47b5-a4cd-a349780c368e",
   "metadata": {},
   "outputs": [
    {
     "ename": "KeyError",
     "evalue": "'key1'",
     "output_type": "error",
     "traceback": [
      "\u001b[0;31m---------------------------------------------------------------------------\u001b[0m",
      "\u001b[0;31mKeyError\u001b[0m                                  Traceback (most recent call last)",
      "Cell \u001b[0;32mIn[12], line 1\u001b[0m\n\u001b[0;32m----> 1\u001b[0m \u001b[43md2\u001b[49m\u001b[43m[\u001b[49m\u001b[38;5;124;43m'\u001b[39;49m\u001b[38;5;124;43mkey1\u001b[39;49m\u001b[38;5;124;43m'\u001b[39;49m\u001b[43m]\u001b[49m\n",
      "\u001b[0;31mKeyError\u001b[0m: 'key1'"
     ]
    }
   ],
   "source": [
    "d2['key1']"
   ]
  },
  {
   "cell_type": "code",
   "execution_count": 6,
   "id": "eb81b7a9-f77c-4754-9ccd-603ef246ae66",
   "metadata": {},
   "outputs": [
    {
     "data": {
      "text/plain": [
       "{0: 0, 1: 1, 2: 4, 3: 9, 4: 16, 5: 25, 6: 36, 7: 49, 8: 64, 9: 81, 10: 100}"
      ]
     },
     "execution_count": 6,
     "metadata": {},
     "output_type": "execute_result"
    }
   ],
   "source": [
    "{i : i**2 for i in range(11)}"
   ]
  },
  {
   "cell_type": "code",
   "execution_count": 7,
   "id": "b1f1a3a1-9c5f-4c46-a853-5f8f96f2c9b6",
   "metadata": {},
   "outputs": [
    {
     "data": {
      "text/plain": [
       "{0: 0, 2: 4, 4: 16, 6: 36, 8: 64, 10: 100}"
      ]
     },
     "execution_count": 7,
     "metadata": {},
     "output_type": "execute_result"
    }
   ],
   "source": [
    "{i : i**2 for i in range(11) if i % 2 == 0}"
   ]
  },
  {
   "cell_type": "code",
   "execution_count": 10,
   "id": "58cdf2b1-f50e-4be6-b083-c9f8b022a19c",
   "metadata": {},
   "outputs": [
    {
     "data": {
      "text/plain": [
       "set()"
      ]
     },
     "execution_count": 10,
     "metadata": {},
     "output_type": "execute_result"
    }
   ],
   "source": [
    "es = set()\n",
    "es"
   ]
  },
  {
   "cell_type": "code",
   "execution_count": 1,
   "id": "e56e9a3b-cd29-4f46-b700-74a25670a56b",
   "metadata": {},
   "outputs": [
    {
     "name": "stdout",
     "output_type": "stream",
     "text": [
      "hello\n"
     ]
    }
   ],
   "source": [
    "def test():\n",
    "    print('hello')\n",
    "    \n",
    "test()"
   ]
  },
  {
   "cell_type": "code",
   "execution_count": 2,
   "id": "374a4b78-ae1a-4ae9-b660-9fa43351c1c1",
   "metadata": {},
   "outputs": [
    {
     "data": {
      "text/plain": [
       "'hello'"
      ]
     },
     "execution_count": 2,
     "metadata": {},
     "output_type": "execute_result"
    }
   ],
   "source": [
    "def test2():\n",
    "    return 'hello'\n",
    "\n",
    "test2()"
   ]
  },
  {
   "cell_type": "code",
   "execution_count": 8,
   "id": "a8945fa9-1622-47e7-91d3-57088321d73c",
   "metadata": {},
   "outputs": [
    {
     "name": "stdout",
     "output_type": "stream",
     "text": [
      "hello\n"
     ]
    },
    {
     "ename": "TypeError",
     "evalue": "unsupported operand type(s) for +: 'NoneType' and 'str'",
     "output_type": "error",
     "traceback": [
      "\u001b[0;31m---------------------------------------------------------------------------\u001b[0m",
      "\u001b[0;31mTypeError\u001b[0m                                 Traceback (most recent call last)",
      "Cell \u001b[0;32mIn[8], line 1\u001b[0m\n\u001b[0;32m----> 1\u001b[0m \u001b[43mtest\u001b[49m\u001b[43m(\u001b[49m\u001b[43m)\u001b[49m\u001b[43m \u001b[49m\u001b[38;5;241;43m+\u001b[39;49m\u001b[43m \u001b[49m\u001b[38;5;124;43m'\u001b[39;49m\u001b[38;5;124;43mabhi\u001b[39;49m\u001b[38;5;124;43m'\u001b[39;49m\n",
      "\u001b[0;31mTypeError\u001b[0m: unsupported operand type(s) for +: 'NoneType' and 'str'"
     ]
    }
   ],
   "source": [
    "test() + 'abhi'"
   ]
  },
  {
   "cell_type": "code",
   "execution_count": 5,
   "id": "e97c4bec-e61f-4994-9929-9361bdcd96a6",
   "metadata": {},
   "outputs": [
    {
     "data": {
      "text/plain": [
       "'hello abhi'"
      ]
     },
     "execution_count": 5,
     "metadata": {},
     "output_type": "execute_result"
    }
   ],
   "source": [
    "test2() + ' abhi'"
   ]
  },
  {
   "cell_type": "code",
   "execution_count": 15,
   "id": "3ebabe21-4157-4de0-9ca1-8cbef555ddf3",
   "metadata": {},
   "outputs": [],
   "source": [
    "def test3():\n",
    "    return 1, 2, 3, 'abhi', 23.45, 34+39j"
   ]
  },
  {
   "cell_type": "code",
   "execution_count": 16,
   "id": "6bc23334-8d1a-401c-92cb-6cb18577ac50",
   "metadata": {},
   "outputs": [
    {
     "data": {
      "text/plain": [
       "(1, 2, 3, 'abhi', 23.45, (34+39j))"
      ]
     },
     "execution_count": 16,
     "metadata": {},
     "output_type": "execute_result"
    }
   ],
   "source": [
    "test3()"
   ]
  },
  {
   "cell_type": "code",
   "execution_count": 9,
   "id": "f3898121-5bf0-4a20-b9a3-dc34caac170d",
   "metadata": {},
   "outputs": [
    {
     "data": {
      "text/plain": [
       "2"
      ]
     },
     "execution_count": 9,
     "metadata": {},
     "output_type": "execute_result"
    }
   ],
   "source": [
    "test3()[1]"
   ]
  },
  {
   "cell_type": "code",
   "execution_count": 10,
   "id": "54ce8df6-138c-4754-8c8a-dae317c252d7",
   "metadata": {},
   "outputs": [],
   "source": [
    "a, b, c, d, e, f = test3()"
   ]
  },
  {
   "cell_type": "code",
   "execution_count": 11,
   "id": "0dd37107-ada8-4387-b3d5-73da5dae8d00",
   "metadata": {},
   "outputs": [
    {
     "data": {
      "text/plain": [
       "1"
      ]
     },
     "execution_count": 11,
     "metadata": {},
     "output_type": "execute_result"
    }
   ],
   "source": [
    "a"
   ]
  },
  {
   "cell_type": "code",
   "execution_count": 12,
   "id": "4d6b05de-ef6e-4f89-8ff3-424d9addd0da",
   "metadata": {},
   "outputs": [
    {
     "data": {
      "text/plain": [
       "2"
      ]
     },
     "execution_count": 12,
     "metadata": {},
     "output_type": "execute_result"
    }
   ],
   "source": [
    "b"
   ]
  },
  {
   "cell_type": "code",
   "execution_count": 13,
   "id": "b13e3291-e9ec-4257-9152-55da353672e2",
   "metadata": {},
   "outputs": [
    {
     "data": {
      "text/plain": [
       "3"
      ]
     },
     "execution_count": 13,
     "metadata": {},
     "output_type": "execute_result"
    }
   ],
   "source": [
    "c"
   ]
  },
  {
   "cell_type": "code",
   "execution_count": 14,
   "id": "b192fb8c-ac39-4452-ab2f-79ac3ac1ea5c",
   "metadata": {},
   "outputs": [
    {
     "data": {
      "text/plain": [
       "'abhi'"
      ]
     },
     "execution_count": 14,
     "metadata": {},
     "output_type": "execute_result"
    }
   ],
   "source": [
    "d"
   ]
  },
  {
   "cell_type": "code",
   "execution_count": 15,
   "id": "86cf1fa6-c689-4839-b56e-b8b92452ff65",
   "metadata": {},
   "outputs": [
    {
     "data": {
      "text/plain": [
       "23.45"
      ]
     },
     "execution_count": 15,
     "metadata": {},
     "output_type": "execute_result"
    }
   ],
   "source": [
    "e"
   ]
  },
  {
   "cell_type": "code",
   "execution_count": 16,
   "id": "0997e778-17c3-4f6c-8cb5-4e4bb6ee2783",
   "metadata": {},
   "outputs": [
    {
     "data": {
      "text/plain": [
       "(34+39j)"
      ]
     },
     "execution_count": 16,
     "metadata": {},
     "output_type": "execute_result"
    }
   ],
   "source": [
    "f"
   ]
  },
  {
   "cell_type": "code",
   "execution_count": 17,
   "id": "53ad1886-8b2a-482b-89b7-2bbf65bf0a0f",
   "metadata": {},
   "outputs": [
    {
     "data": {
      "text/plain": [
       "17"
      ]
     },
     "execution_count": 17,
     "metadata": {},
     "output_type": "execute_result"
    }
   ],
   "source": [
    "def test4():\n",
    "     return 3 * 4 + 5\n",
    "    \n",
    "test4()"
   ]
  },
  {
   "cell_type": "code",
   "execution_count": 18,
   "id": "6cd80bba-2de9-4ae2-83b5-0ce5d420a63d",
   "metadata": {},
   "outputs": [
    {
     "data": {
      "text/plain": [
       "int"
      ]
     },
     "execution_count": 18,
     "metadata": {},
     "output_type": "execute_result"
    }
   ],
   "source": [
    "type(test4())"
   ]
  },
  {
   "cell_type": "code",
   "execution_count": 19,
   "id": "4d68650d-4ddc-4bee-a280-d0544134a42b",
   "metadata": {},
   "outputs": [
    {
     "data": {
      "text/plain": [
       "10"
      ]
     },
     "execution_count": 19,
     "metadata": {},
     "output_type": "execute_result"
    }
   ],
   "source": [
    "def test5(a, b):\n",
    "    return a+b\n",
    "\n",
    "test5(3,7)"
   ]
  },
  {
   "cell_type": "code",
   "execution_count": 20,
   "id": "7963a4e4-0a2e-4fb4-becf-1d2d695b144a",
   "metadata": {},
   "outputs": [
    {
     "data": {
      "text/plain": [
       "'abhivamsi'"
      ]
     },
     "execution_count": 20,
     "metadata": {},
     "output_type": "execute_result"
    }
   ],
   "source": [
    "test5('abhi', 'vamsi')"
   ]
  },
  {
   "cell_type": "code",
   "execution_count": 21,
   "id": "ac562fb2-18c7-4161-96e8-7340baa257ab",
   "metadata": {},
   "outputs": [
    {
     "data": {
      "text/plain": [
       "(1, 2, 3, 7, 8, 9)"
      ]
     },
     "execution_count": 21,
     "metadata": {},
     "output_type": "execute_result"
    }
   ],
   "source": [
    "test5((1,2,3), (7,8,9))"
   ]
  },
  {
   "cell_type": "code",
   "execution_count": 26,
   "id": "c6ae9813-641b-4e25-b79d-929598e1bc6c",
   "metadata": {},
   "outputs": [],
   "source": [
    "l1 = [1,2,3,4,5, 'peskills', 3+4j, [6,7,8,9,10]]"
   ]
  },
  {
   "cell_type": "code",
   "execution_count": 25,
   "id": "5d8700e2-3efc-40a4-9063-e95cae15ac83",
   "metadata": {},
   "outputs": [],
   "source": [
    "def test6(a):\n",
    "    n = []\n",
    "    for i in a:\n",
    "        if type(i) == int or type(i) == float:\n",
    "            n.append(i)\n",
    "    return n"
   ]
  },
  {
   "cell_type": "code",
   "execution_count": 24,
   "id": "33f55995-b4a1-42fd-96c7-e136b3721b0a",
   "metadata": {},
   "outputs": [
    {
     "data": {
      "text/plain": [
       "[1, 2, 3, 4, 5]"
      ]
     },
     "execution_count": 24,
     "metadata": {},
     "output_type": "execute_result"
    }
   ],
   "source": [
    "test6(l1)"
   ]
  },
  {
   "cell_type": "code",
   "execution_count": 30,
   "id": "d96ffabd-a55b-45f8-9f04-8316dd3f2777",
   "metadata": {},
   "outputs": [
    {
     "data": {
      "text/plain": [
       "[1, 2, 3, 4, 5, 6, 7, 8, 9, 10]"
      ]
     },
     "execution_count": 30,
     "metadata": {},
     "output_type": "execute_result"
    }
   ],
   "source": [
    "def test7(a):\n",
    "    n = []\n",
    "    for i in a:\n",
    "        if type(i) == list:\n",
    "            n.extend(test6(i))\n",
    "        if type(i) == int or type(i) == float:\n",
    "            n.append(i)\n",
    "    return n\n",
    "\n",
    "\n",
    "test7(l1)"
   ]
  },
  {
   "cell_type": "code",
   "execution_count": 1,
   "id": "42938f3f-e822-4bc7-9e00-aa147004f6f0",
   "metadata": {},
   "outputs": [
    {
     "data": {
      "text/plain": [
       "('abhi', 7, 3, 'infosys')"
      ]
     },
     "execution_count": 1,
     "metadata": {},
     "output_type": "execute_result"
    }
   ],
   "source": [
    "def test8(*args):\n",
    "    return args\n",
    "\n",
    "test8('abhi', 7, 3, 'infosys')"
   ]
  },
  {
   "cell_type": "code",
   "execution_count": 2,
   "id": "b7ba541f-ff17-49fd-a79d-fa22b349c36b",
   "metadata": {},
   "outputs": [],
   "source": [
    "def test9(*args, a = '99'):\n",
    "    return args"
   ]
  },
  {
   "cell_type": "code",
   "execution_count": 3,
   "id": "cc246d1c-a5c8-401b-8997-08e10fd47cf8",
   "metadata": {},
   "outputs": [
    {
     "data": {
      "text/plain": [
       "(('abhi', 7, 3, 'infosys'), '99')"
      ]
     },
     "execution_count": 3,
     "metadata": {},
     "output_type": "execute_result"
    }
   ],
   "source": [
    "test9('abhi', 7, 3, 'infosys')"
   ]
  },
  {
   "cell_type": "code",
   "execution_count": 4,
   "id": "c6af7138-c6d4-424c-81d3-ad5406a8631f",
   "metadata": {},
   "outputs": [
    {
     "data": {
      "text/plain": [
       "(('abhi', 7, 3, 'infosys'), 99)"
      ]
     },
     "execution_count": 4,
     "metadata": {},
     "output_type": "execute_result"
    }
   ],
   "source": [
    "test9('abhi', 7, 3, 'infosys', a = 99)"
   ]
  },
  {
   "cell_type": "code",
   "execution_count": 5,
   "id": "525b3473-d45a-4d71-83e8-3c3731b8d2e8",
   "metadata": {},
   "outputs": [
    {
     "data": {
      "text/plain": [
       "tuple"
      ]
     },
     "execution_count": 5,
     "metadata": {},
     "output_type": "execute_result"
    }
   ],
   "source": [
    "type(test8())"
   ]
  },
  {
   "cell_type": "code",
   "execution_count": 6,
   "id": "90e7f205-af59-4aa9-908b-db6a00aa4a05",
   "metadata": {},
   "outputs": [],
   "source": [
    "def test10(**args):\n",
    "    return args"
   ]
  },
  {
   "cell_type": "code",
   "execution_count": 8,
   "id": "df6c3b2f-8f0a-4079-aaac-39a4d4b1cab9",
   "metadata": {},
   "outputs": [
    {
     "data": {
      "text/plain": [
       "{'name': 'abhi', 'num1': 7, 'num2': 3, 'company': 'infosys'}"
      ]
     },
     "execution_count": 8,
     "metadata": {},
     "output_type": "execute_result"
    }
   ],
   "source": [
    "test10(name = 'abhi', num1 = 7, num2 = 3, company = 'infosys')"
   ]
  },
  {
   "cell_type": "code",
   "execution_count": 9,
   "id": "e08f725d-8a49-4ec1-a7f9-26d2065d2766",
   "metadata": {},
   "outputs": [],
   "source": [
    "def test11(a):\n",
    "    for i in range(a):\n",
    "        yield i ** 2"
   ]
  },
  {
   "cell_type": "code",
   "execution_count": 10,
   "id": "00ebb585-7e36-40b2-a1a1-7b5f5ef08f44",
   "metadata": {},
   "outputs": [],
   "source": [
    "a = test11(7)"
   ]
  },
  {
   "cell_type": "code",
   "execution_count": 11,
   "id": "fd52d252-4af2-4c6e-a60d-5f142c4bd2e9",
   "metadata": {},
   "outputs": [
    {
     "data": {
      "text/plain": [
       "<generator object test11 at 0x7f34901783c0>"
      ]
     },
     "execution_count": 11,
     "metadata": {},
     "output_type": "execute_result"
    }
   ],
   "source": [
    "a"
   ]
  },
  {
   "cell_type": "code",
   "execution_count": 12,
   "id": "43d63eb9-369d-4726-bb1f-31ed53d2e7b8",
   "metadata": {},
   "outputs": [
    {
     "data": {
      "text/plain": [
       "0"
      ]
     },
     "execution_count": 12,
     "metadata": {},
     "output_type": "execute_result"
    }
   ],
   "source": [
    "next(a)"
   ]
  },
  {
   "cell_type": "code",
   "execution_count": 13,
   "id": "126214a0-a9f1-41f3-bf46-bb63f28495d1",
   "metadata": {},
   "outputs": [
    {
     "data": {
      "text/plain": [
       "1"
      ]
     },
     "execution_count": 13,
     "metadata": {},
     "output_type": "execute_result"
    }
   ],
   "source": [
    "next(a)"
   ]
  },
  {
   "cell_type": "code",
   "execution_count": 14,
   "id": "821dc76d-2bd8-4364-8620-cdab47b7566d",
   "metadata": {},
   "outputs": [
    {
     "data": {
      "text/plain": [
       "4"
      ]
     },
     "execution_count": 14,
     "metadata": {},
     "output_type": "execute_result"
    }
   ],
   "source": [
    "next(a)"
   ]
  },
  {
   "cell_type": "code",
   "execution_count": 15,
   "id": "e03ce2c0-c3c8-4847-8624-26f9a460ced2",
   "metadata": {},
   "outputs": [
    {
     "data": {
      "text/plain": [
       "9"
      ]
     },
     "execution_count": 15,
     "metadata": {},
     "output_type": "execute_result"
    }
   ],
   "source": [
    "next(a)"
   ]
  },
  {
   "cell_type": "code",
   "execution_count": 16,
   "id": "bdd7a09d-68a2-4e40-a0fd-0d4cca5903e5",
   "metadata": {},
   "outputs": [
    {
     "data": {
      "text/plain": [
       "16"
      ]
     },
     "execution_count": 16,
     "metadata": {},
     "output_type": "execute_result"
    }
   ],
   "source": [
    "next(a)"
   ]
  },
  {
   "cell_type": "code",
   "execution_count": 17,
   "id": "370f0ae8-bc3a-4611-8d24-abff6e9dcf47",
   "metadata": {},
   "outputs": [
    {
     "data": {
      "text/plain": [
       "25"
      ]
     },
     "execution_count": 17,
     "metadata": {},
     "output_type": "execute_result"
    }
   ],
   "source": [
    "next(a)"
   ]
  },
  {
   "cell_type": "code",
   "execution_count": 18,
   "id": "36625f3d-863e-4b6c-9bdb-028827836db9",
   "metadata": {},
   "outputs": [
    {
     "data": {
      "text/plain": [
       "36"
      ]
     },
     "execution_count": 18,
     "metadata": {},
     "output_type": "execute_result"
    }
   ],
   "source": [
    "next(a)"
   ]
  },
  {
   "cell_type": "code",
   "execution_count": 19,
   "id": "7996636e-58c9-4edb-a2b1-f9a52c776568",
   "metadata": {},
   "outputs": [
    {
     "ename": "StopIteration",
     "evalue": "",
     "output_type": "error",
     "traceback": [
      "\u001b[0;31m---------------------------------------------------------------------------\u001b[0m",
      "\u001b[0;31mStopIteration\u001b[0m                             Traceback (most recent call last)",
      "Cell \u001b[0;32mIn[19], line 1\u001b[0m\n\u001b[0;32m----> 1\u001b[0m \u001b[38;5;28;43mnext\u001b[39;49m\u001b[43m(\u001b[49m\u001b[43ma\u001b[49m\u001b[43m)\u001b[49m\n",
      "\u001b[0;31mStopIteration\u001b[0m: "
     ]
    }
   ],
   "source": [
    "next(a)"
   ]
  },
  {
   "cell_type": "code",
   "execution_count": 20,
   "id": "9c124f1b-5037-4862-bef1-c8d8f248d819",
   "metadata": {},
   "outputs": [],
   "source": [
    "add = lambda x, y: x+y"
   ]
  },
  {
   "cell_type": "code",
   "execution_count": 21,
   "id": "5ea3845f-93dd-4236-8e15-0a8150adb85a",
   "metadata": {},
   "outputs": [
    {
     "data": {
      "text/plain": [
       "7"
      ]
     },
     "execution_count": 21,
     "metadata": {},
     "output_type": "execute_result"
    }
   ],
   "source": [
    "add(3,4)"
   ]
  },
  {
   "cell_type": "code",
   "execution_count": 23,
   "id": "2e8f25e5-1766-4058-bdcf-62501ac859e4",
   "metadata": {},
   "outputs": [
    {
     "data": {
      "text/plain": [
       "[0, 1, 8, 27, 64, 125, 216, 343]"
      ]
     },
     "execution_count": 23,
     "metadata": {},
     "output_type": "execute_result"
    }
   ],
   "source": [
    "list(map(lambda x: x**3, list(range(8))))"
   ]
  },
  {
   "cell_type": "code",
   "execution_count": 3,
   "id": "6dd445d1-14f1-47c9-b7de-408dca558f06",
   "metadata": {},
   "outputs": [],
   "source": [
    "l = [1,2,3,4]"
   ]
  },
  {
   "cell_type": "code",
   "execution_count": 34,
   "id": "6877f1be-f936-46b7-b285-55a9da20e4c9",
   "metadata": {},
   "outputs": [],
   "source": [
    "def test6(a):\n",
    "    return a ** 2"
   ]
  },
  {
   "cell_type": "code",
   "execution_count": 35,
   "id": "9bc172bb-3295-4cf0-a2cc-73be6e991c44",
   "metadata": {},
   "outputs": [
    {
     "data": {
      "text/plain": [
       "[1, 4, 9, 16]"
      ]
     },
     "execution_count": 35,
     "metadata": {},
     "output_type": "execute_result"
    }
   ],
   "source": [
    "list(map(test6, l))"
   ]
  },
  {
   "cell_type": "code",
   "execution_count": 9,
   "id": "02310d51-2e30-4d23-a4ea-4d512def116c",
   "metadata": {},
   "outputs": [
    {
     "data": {
      "text/plain": [
       "720"
      ]
     },
     "execution_count": 9,
     "metadata": {},
     "output_type": "execute_result"
    }
   ],
   "source": [
    "from functools import reduce\n",
    "reduce(lambda x, y: x * y, list(range(1, 7)))"
   ]
  },
  {
   "cell_type": "code",
   "execution_count": 10,
   "id": "4851ef01-ead8-409f-894a-1f3926a50fac",
   "metadata": {},
   "outputs": [
    {
     "data": {
      "text/plain": [
       "[0, 2, 4, 6]"
      ]
     },
     "execution_count": 10,
     "metadata": {},
     "output_type": "execute_result"
    }
   ],
   "source": [
    "list(filter(lambda x: x%2 == 0, list(range(7))))"
   ]
  },
  {
   "cell_type": "code",
   "execution_count": 11,
   "id": "34d1f140-bba5-46df-a0b5-e5d3e6e466a8",
   "metadata": {},
   "outputs": [],
   "source": [
    "def test(a):\n",
    "\n",
    "      yield a**2\n",
    "\n"
   ]
  },
  {
   "cell_type": "code",
   "execution_count": 13,
   "id": "b4ed8ad3-c300-40f8-9dac-68c937cedb2a",
   "metadata": {},
   "outputs": [],
   "source": [
    "a = test([1, 2, 3])"
   ]
  },
  {
   "cell_type": "code",
   "execution_count": 14,
   "id": "b90bc71d-3801-4f21-b3ea-e55c8d514144",
   "metadata": {},
   "outputs": [
    {
     "ename": "TypeError",
     "evalue": "unsupported operand type(s) for ** or pow(): 'list' and 'int'",
     "output_type": "error",
     "traceback": [
      "\u001b[0;31m---------------------------------------------------------------------------\u001b[0m",
      "\u001b[0;31mTypeError\u001b[0m                                 Traceback (most recent call last)",
      "Cell \u001b[0;32mIn[14], line 1\u001b[0m\n\u001b[0;32m----> 1\u001b[0m \u001b[38;5;28;43mnext\u001b[39;49m\u001b[43m(\u001b[49m\u001b[43ma\u001b[49m\u001b[43m)\u001b[49m\n",
      "Cell \u001b[0;32mIn[11], line 3\u001b[0m, in \u001b[0;36mtest\u001b[0;34m(a)\u001b[0m\n\u001b[1;32m      1\u001b[0m \u001b[38;5;28;01mdef\u001b[39;00m \u001b[38;5;21mtest\u001b[39m(a):\n\u001b[0;32m----> 3\u001b[0m       \u001b[38;5;28;01myield\u001b[39;00m \u001b[43ma\u001b[49m\u001b[38;5;241;43m*\u001b[39;49m\u001b[38;5;241;43m*\u001b[39;49m\u001b[38;5;241;43m2\u001b[39;49m\n",
      "\u001b[0;31mTypeError\u001b[0m: unsupported operand type(s) for ** or pow(): 'list' and 'int'"
     ]
    }
   ],
   "source": [
    "next(a)"
   ]
  },
  {
   "cell_type": "code",
   "execution_count": 17,
   "id": "3aaf8210-f1d7-41cc-ba68-d1176b53b47f",
   "metadata": {},
   "outputs": [],
   "source": [
    "a = test3()"
   ]
  },
  {
   "cell_type": "code",
   "execution_count": 21,
   "id": "5360ed75-2c3a-48d8-926f-ed3dc7123221",
   "metadata": {},
   "outputs": [
    {
     "ename": "TypeError",
     "evalue": "'tuple' object does not support item assignment",
     "output_type": "error",
     "traceback": [
      "\u001b[0;31m---------------------------------------------------------------------------\u001b[0m",
      "\u001b[0;31mTypeError\u001b[0m                                 Traceback (most recent call last)",
      "Cell \u001b[0;32mIn[21], line 1\u001b[0m\n\u001b[0;32m----> 1\u001b[0m \u001b[43ma\u001b[49m\u001b[43m[\u001b[49m\u001b[38;5;241;43m6\u001b[39;49m\u001b[43m]\u001b[49m \u001b[38;5;241m=\u001b[39m \u001b[38;5;241m9\u001b[39m\n",
      "\u001b[0;31mTypeError\u001b[0m: 'tuple' object does not support item assignment"
     ]
    }
   ],
   "source": [
    "a[6] = 9"
   ]
  },
  {
   "cell_type": "code",
   "execution_count": 27,
   "id": "a340d914-8c2e-4e37-964b-04463d67dd1c",
   "metadata": {},
   "outputs": [],
   "source": [
    "d = [1,2,3,4]"
   ]
  },
  {
   "cell_type": "code",
   "execution_count": 28,
   "id": "524577fa-a5a5-485a-b7c5-ddf4bb8f7164",
   "metadata": {},
   "outputs": [
    {
     "data": {
      "text/plain": [
       "4"
      ]
     },
     "execution_count": 28,
     "metadata": {},
     "output_type": "execute_result"
    }
   ],
   "source": [
    "d.pop()"
   ]
  },
  {
   "cell_type": "code",
   "execution_count": 25,
   "id": "4f93be93-6f6f-46d1-bbdf-3dde2f7451d2",
   "metadata": {},
   "outputs": [
    {
     "name": "stdout",
     "output_type": "stream",
     "text": [
      "{1, 2, 3, 4, 5, 6}\n",
      "{1, 3}\n"
     ]
    }
   ],
   "source": [
    "a = {1,2,3,4}\n",
    "\n",
    "b = {1,3,5,6}\n",
    "\n",
    "d = a & b\n",
    "\n",
    "c = a | b\n",
    "\n",
    "print(c)\n",
    "print(d)"
   ]
  },
  {
   "cell_type": "code",
   "execution_count": 29,
   "id": "d6993d69-6f6b-413f-a70f-2f7b285f7119",
   "metadata": {},
   "outputs": [
    {
     "name": "stdout",
     "output_type": "stream",
     "text": [
      "{2, 3, 4}\n"
     ]
    }
   ],
   "source": [
    "a = {1,2,3,4}\n",
    "\n",
    "a.pop()\n",
    "\n",
    "print(a)"
   ]
  },
  {
   "cell_type": "code",
   "execution_count": 30,
   "id": "3594624e-282a-42bc-bddd-df5fe5ff90f8",
   "metadata": {},
   "outputs": [
    {
     "name": "stdout",
     "output_type": "stream",
     "text": [
      "The given list is:\n",
      "[1, 2, 3, 4, 5]\n",
      "The output frozenset is:\n",
      "frozenset({1, 2, 3, 4, 5})\n"
     ]
    }
   ],
   "source": [
    "myList = [1, 2, 3, 4, 5]\n",
    "print(\"The given list is:\")\n",
    "print(myList)\n",
    "myFrozenset = frozenset(myList)\n",
    "print(\"The output frozenset is:\")\n",
    "print(myFrozenset)"
   ]
  },
  {
   "cell_type": "code",
   "execution_count": 31,
   "id": "678e2454-ec8a-4a09-b9d8-3d0f8da10426",
   "metadata": {},
   "outputs": [],
   "source": [
    "d1 = {'key1':'value1', 'key2':'value2'}\n",
    "d2 = {'key3':'value3', 'key4':'value4'}"
   ]
  },
  {
   "cell_type": "code",
   "execution_count": 32,
   "id": "83032410-02ff-4ce2-8a71-b0db946f8951",
   "metadata": {},
   "outputs": [],
   "source": [
    "d1.update(d2)"
   ]
  },
  {
   "cell_type": "code",
   "execution_count": 33,
   "id": "59512351-c06d-4921-a982-351eb94b71e7",
   "metadata": {},
   "outputs": [
    {
     "data": {
      "text/plain": [
       "{'key1': 'value1', 'key2': 'value2', 'key3': 'value3', 'key4': 'value4'}"
      ]
     },
     "execution_count": 33,
     "metadata": {},
     "output_type": "execute_result"
    }
   ],
   "source": [
    "d1"
   ]
  },
  {
   "cell_type": "code",
   "execution_count": null,
   "id": "8aa9763c-fe67-4340-bbd4-3d0c795c0d69",
   "metadata": {},
   "outputs": [],
   "source": []
  }
 ],
 "metadata": {
  "kernelspec": {
   "display_name": "Python 3 (ipykernel)",
   "language": "python",
   "name": "python3"
  },
  "language_info": {
   "codemirror_mode": {
    "name": "ipython",
    "version": 3
   },
   "file_extension": ".py",
   "mimetype": "text/x-python",
   "name": "python",
   "nbconvert_exporter": "python",
   "pygments_lexer": "ipython3",
   "version": "3.10.8"
  }
 },
 "nbformat": 4,
 "nbformat_minor": 5
}
