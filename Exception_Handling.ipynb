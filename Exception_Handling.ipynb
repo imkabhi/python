{
 "cells": [
  {
   "cell_type": "markdown",
   "id": "507b54a1-b05f-4d11-8ba6-4712f70a6c0e",
   "metadata": {},
   "source": [
    "## Try and Except"
   ]
  },
  {
   "cell_type": "code",
   "execution_count": 1,
   "id": "d79b1b35-60cc-4dc8-95ef-c90511804472",
   "metadata": {},
   "outputs": [],
   "source": [
    "a = 10"
   ]
  },
  {
   "cell_type": "code",
   "execution_count": 2,
   "id": "ed392b28-d1b8-402e-8bf8-19b7cb959357",
   "metadata": {},
   "outputs": [
    {
     "ename": "ZeroDivisionError",
     "evalue": "division by zero",
     "output_type": "error",
     "traceback": [
      "\u001b[0;31m---------------------------------------------------------------------------\u001b[0m",
      "\u001b[0;31mZeroDivisionError\u001b[0m                         Traceback (most recent call last)",
      "Cell \u001b[0;32mIn[2], line 1\u001b[0m\n\u001b[0;32m----> 1\u001b[0m \u001b[43ma\u001b[49m\u001b[43m \u001b[49m\u001b[38;5;241;43m/\u001b[39;49m\u001b[43m \u001b[49m\u001b[38;5;241;43m0\u001b[39;49m\n",
      "\u001b[0;31mZeroDivisionError\u001b[0m: division by zero"
     ]
    }
   ],
   "source": [
    "a / 0"
   ]
  },
  {
   "cell_type": "code",
   "execution_count": 3,
   "id": "25516754-4e63-49c3-8eb3-1c65893f7389",
   "metadata": {},
   "outputs": [
    {
     "ename": "FileNotFoundError",
     "evalue": "[Errno 2] No such file or directory: 'abhi.txt'",
     "output_type": "error",
     "traceback": [
      "\u001b[0;31m---------------------------------------------------------------------------\u001b[0m",
      "\u001b[0;31mFileNotFoundError\u001b[0m                         Traceback (most recent call last)",
      "Cell \u001b[0;32mIn[3], line 1\u001b[0m\n\u001b[0;32m----> 1\u001b[0m f \u001b[38;5;241m=\u001b[39m \u001b[38;5;28;43mopen\u001b[39;49m\u001b[43m(\u001b[49m\u001b[38;5;124;43m'\u001b[39;49m\u001b[38;5;124;43mabhi.txt\u001b[39;49m\u001b[38;5;124;43m'\u001b[39;49m\u001b[43m,\u001b[49m\u001b[43m \u001b[49m\u001b[38;5;124;43m'\u001b[39;49m\u001b[38;5;124;43mr\u001b[39;49m\u001b[38;5;124;43m'\u001b[39;49m\u001b[43m)\u001b[49m\n\u001b[1;32m      2\u001b[0m \u001b[38;5;28mprint\u001b[39m(\u001b[38;5;124m'\u001b[39m\u001b[38;5;124mthis is my print\u001b[39m\u001b[38;5;124m'\u001b[39m)\n",
      "File \u001b[0;32m/opt/conda/lib/python3.10/site-packages/IPython/core/interactiveshell.py:282\u001b[0m, in \u001b[0;36m_modified_open\u001b[0;34m(file, *args, **kwargs)\u001b[0m\n\u001b[1;32m    275\u001b[0m \u001b[38;5;28;01mif\u001b[39;00m file \u001b[38;5;129;01min\u001b[39;00m {\u001b[38;5;241m0\u001b[39m, \u001b[38;5;241m1\u001b[39m, \u001b[38;5;241m2\u001b[39m}:\n\u001b[1;32m    276\u001b[0m     \u001b[38;5;28;01mraise\u001b[39;00m \u001b[38;5;167;01mValueError\u001b[39;00m(\n\u001b[1;32m    277\u001b[0m         \u001b[38;5;124mf\u001b[39m\u001b[38;5;124m\"\u001b[39m\u001b[38;5;124mIPython won\u001b[39m\u001b[38;5;124m'\u001b[39m\u001b[38;5;124mt let you open fd=\u001b[39m\u001b[38;5;132;01m{\u001b[39;00mfile\u001b[38;5;132;01m}\u001b[39;00m\u001b[38;5;124m by default \u001b[39m\u001b[38;5;124m\"\u001b[39m\n\u001b[1;32m    278\u001b[0m         \u001b[38;5;124m\"\u001b[39m\u001b[38;5;124mas it is likely to crash IPython. If you know what you are doing, \u001b[39m\u001b[38;5;124m\"\u001b[39m\n\u001b[1;32m    279\u001b[0m         \u001b[38;5;124m\"\u001b[39m\u001b[38;5;124myou can use builtins\u001b[39m\u001b[38;5;124m'\u001b[39m\u001b[38;5;124m open.\u001b[39m\u001b[38;5;124m\"\u001b[39m\n\u001b[1;32m    280\u001b[0m     )\n\u001b[0;32m--> 282\u001b[0m \u001b[38;5;28;01mreturn\u001b[39;00m \u001b[43mio_open\u001b[49m\u001b[43m(\u001b[49m\u001b[43mfile\u001b[49m\u001b[43m,\u001b[49m\u001b[43m \u001b[49m\u001b[38;5;241;43m*\u001b[39;49m\u001b[43margs\u001b[49m\u001b[43m,\u001b[49m\u001b[43m \u001b[49m\u001b[38;5;241;43m*\u001b[39;49m\u001b[38;5;241;43m*\u001b[39;49m\u001b[43mkwargs\u001b[49m\u001b[43m)\u001b[49m\n",
      "\u001b[0;31mFileNotFoundError\u001b[0m: [Errno 2] No such file or directory: 'abhi.txt'"
     ]
    }
   ],
   "source": [
    "f = open('abhi.txt', 'r')\n",
    "print('this is my print')"
   ]
  },
  {
   "cell_type": "code",
   "execution_count": 6,
   "id": "5836e657-92c5-4fa5-8c6e-543b97c8b4fa",
   "metadata": {},
   "outputs": [
    {
     "name": "stdout",
     "output_type": "stream",
     "text": [
      "there is an error in my code [Errno 2] No such file or directory: 'abhi.txt'\n"
     ]
    },
    {
     "data": {
      "text/plain": [
       "10"
      ]
     },
     "execution_count": 6,
     "metadata": {},
     "output_type": "execute_result"
    }
   ],
   "source": [
    "try:\n",
    "    f = open('abhi.txt', 'r')\n",
    "except Exception as e:\n",
    "    print('there is an error in my code', e)\n",
    "a = 10\n",
    "a"
   ]
  },
  {
   "cell_type": "code",
   "execution_count": 7,
   "id": "59498508-ee4d-4b8e-a61e-960d224badbc",
   "metadata": {},
   "outputs": [
    {
     "name": "stdout",
     "output_type": "stream",
     "text": [
      "this block will execute once try execute itself without any error\n"
     ]
    }
   ],
   "source": [
    "try:\n",
    "    f = open('abhi.txt', 'w')\n",
    "    f.write('this is my msg')\n",
    "except Exception as e:\n",
    "    print('there is an error in my code', e)\n",
    "else:\n",
    "    print('this block will execute once try execute itself without any error')"
   ]
  },
  {
   "cell_type": "code",
   "execution_count": 9,
   "id": "9dc0c15f-1134-405f-8c09-5a18ba3acece",
   "metadata": {},
   "outputs": [
    {
     "name": "stdout",
     "output_type": "stream",
     "text": [
      "there is an error in my code: not writable\n"
     ]
    }
   ],
   "source": [
    "try:\n",
    "    f = open('abhi.txt', 'r')\n",
    "    f.write('this is my msg')\n",
    "except Exception as e:\n",
    "    print('there is an error in my code:', e)\n",
    "else:\n",
    "    print('this block will execute once try execute itself without any error')"
   ]
  },
  {
   "cell_type": "code",
   "execution_count": 11,
   "id": "206e70aa-3432-4c6d-9b4e-4cd5f8b9c43b",
   "metadata": {},
   "outputs": [
    {
     "name": "stdout",
     "output_type": "stream",
     "text": [
      "there is an error in my code: not writable\n",
      "this will always execute\n"
     ]
    }
   ],
   "source": [
    "try:\n",
    "    f = open('abhi.txt', 'r')\n",
    "    f.write('this is my msg')\n",
    "except Exception as e:\n",
    "    print('there is an error in my code:', e)\n",
    "else:\n",
    "    print('this block will execute once try execute itself without any error')\n",
    "finally:\n",
    "    print('this will always execute')"
   ]
  },
  {
   "cell_type": "code",
   "execution_count": 12,
   "id": "e4422dc9-8f8b-428e-82b1-4a679fe2dc2c",
   "metadata": {},
   "outputs": [
    {
     "name": "stdout",
     "output_type": "stream",
     "text": [
      "this will always execute\n"
     ]
    },
    {
     "ename": "UnsupportedOperation",
     "evalue": "not writable",
     "output_type": "error",
     "traceback": [
      "\u001b[0;31m---------------------------------------------------------------------------\u001b[0m",
      "\u001b[0;31mUnsupportedOperation\u001b[0m                      Traceback (most recent call last)",
      "Cell \u001b[0;32mIn[12], line 3\u001b[0m\n\u001b[1;32m      1\u001b[0m \u001b[38;5;28;01mtry\u001b[39;00m:\n\u001b[1;32m      2\u001b[0m     f \u001b[38;5;241m=\u001b[39m \u001b[38;5;28mopen\u001b[39m(\u001b[38;5;124m'\u001b[39m\u001b[38;5;124mabhi.txt\u001b[39m\u001b[38;5;124m'\u001b[39m, \u001b[38;5;124m'\u001b[39m\u001b[38;5;124mr\u001b[39m\u001b[38;5;124m'\u001b[39m)\n\u001b[0;32m----> 3\u001b[0m     \u001b[43mf\u001b[49m\u001b[38;5;241;43m.\u001b[39;49m\u001b[43mwrite\u001b[49m\u001b[43m(\u001b[49m\u001b[38;5;124;43m'\u001b[39;49m\u001b[38;5;124;43mthis is my msg\u001b[39;49m\u001b[38;5;124;43m'\u001b[39;49m\u001b[43m)\u001b[49m\n\u001b[1;32m      4\u001b[0m \u001b[38;5;28;01mfinally\u001b[39;00m:\n\u001b[1;32m      5\u001b[0m     \u001b[38;5;28mprint\u001b[39m(\u001b[38;5;124m'\u001b[39m\u001b[38;5;124mthis will always execute\u001b[39m\u001b[38;5;124m'\u001b[39m)\n",
      "\u001b[0;31mUnsupportedOperation\u001b[0m: not writable"
     ]
    }
   ],
   "source": [
    "try:\n",
    "    f = open('abhi.txt', 'r')\n",
    "    f.write('this is my msg')\n",
    "finally:\n",
    "    print('this will always execute')"
   ]
  },
  {
   "cell_type": "markdown",
   "id": "8a6d3c8c-0b23-4fc8-a3f5-808269f308dd",
   "metadata": {},
   "source": [
    "## Custom Exception Handling"
   ]
  },
  {
   "cell_type": "code",
   "execution_count": 13,
   "id": "7c13e3ee-1e1f-4b81-b194-361a3761a7b4",
   "metadata": {},
   "outputs": [
    {
     "name": "stdin",
     "output_type": "stream",
     "text": [
      "enter age: -2234\n"
     ]
    }
   ],
   "source": [
    "age = int(input('enter age:'))"
   ]
  },
  {
   "cell_type": "code",
   "execution_count": 14,
   "id": "b64bcf3a-cb86-4637-b57c-42c548e5546a",
   "metadata": {},
   "outputs": [],
   "source": [
    "class validateage(Exception):\n",
    "    def __init__(self, msg):\n",
    "        self.msg = msg"
   ]
  },
  {
   "cell_type": "code",
   "execution_count": 15,
   "id": "b21cf060-9873-4005-8af3-a5f2d140bfb4",
   "metadata": {},
   "outputs": [],
   "source": [
    "def validate_age(age):\n",
    "    if age < 0:\n",
    "        raise validateage('age should be greater than zero')\n",
    "    elif age > 150:\n",
    "        raise validateage('age is too high')\n",
    "    else:\n",
    "        print('age is valid')\n"
   ]
  },
  {
   "cell_type": "code",
   "execution_count": 17,
   "id": "ff918bb8-614a-48b3-8368-06c6a953b75b",
   "metadata": {},
   "outputs": [
    {
     "name": "stdin",
     "output_type": "stream",
     "text": [
      "enter age: -2234\n"
     ]
    },
    {
     "name": "stdout",
     "output_type": "stream",
     "text": [
      "age should be greater than zero\n"
     ]
    }
   ],
   "source": [
    "try:\n",
    "    age = int(input('enter age:'))\n",
    "    validate_age(age)\n",
    "except validateage as e:\n",
    "    print(e)"
   ]
  },
  {
   "cell_type": "markdown",
   "id": "dfbcbe74-5411-48b2-a5cb-5fa107a2cea8",
   "metadata": {},
   "source": [
    "## List of General Use Exceptions"
   ]
  },
  {
   "cell_type": "code",
   "execution_count": 1,
   "id": "05139a30-379c-4837-ad23-5d78a7a8eafc",
   "metadata": {},
   "outputs": [
    {
     "name": "stdout",
     "output_type": "stream",
     "text": [
      "division by zero\n"
     ]
    }
   ],
   "source": [
    "#Zero Division\n",
    "try:\n",
    "    a = 10\n",
    "    b = a/0\n",
    "    print(b)\n",
    "except ZeroDivisionError as e:\n",
    "    print(e)"
   ]
  },
  {
   "cell_type": "code",
   "execution_count": 2,
   "id": "7c8883e8-3a4d-4838-b67f-b0915235abfc",
   "metadata": {},
   "outputs": [
    {
     "name": "stdout",
     "output_type": "stream",
     "text": [
      "invalid literal for int() with base 10: 'sudh'\n"
     ]
    }
   ],
   "source": [
    "#Value Error and Type Error\n",
    "try:\n",
    "    int('sudh')\n",
    "except (ValueError, TypeError) as e:\n",
    "    print(e)"
   ]
  },
  {
   "cell_type": "code",
   "execution_count": 3,
   "id": "30a255ef-7083-4d06-8450-ca8d0e348aab",
   "metadata": {},
   "outputs": [
    {
     "name": "stdout",
     "output_type": "stream",
     "text": [
      "No module named 'sudh'\n"
     ]
    }
   ],
   "source": [
    "#Import Error\n",
    "try:\n",
    "    import sudh\n",
    "except ImportError as e:\n",
    "    print(e)"
   ]
  },
  {
   "cell_type": "code",
   "execution_count": 6,
   "id": "499fd181-ae9c-4a7e-86af-61ebcdf57267",
   "metadata": {},
   "outputs": [
    {
     "name": "stdout",
     "output_type": "stream",
     "text": [
      "'key1'\n"
     ]
    }
   ],
   "source": [
    "try:\n",
    "    dic = {1: [3,4,5,6], 'key' : 'sudh'}\n",
    "    print(dic['key1'])\n",
    "except KeyError as e:\n",
    "    print(e)"
   ]
  },
  {
   "cell_type": "code",
   "execution_count": 8,
   "id": "d7473f12-7c49-4276-ac74-301b0b993eef",
   "metadata": {},
   "outputs": [
    {
     "name": "stdout",
     "output_type": "stream",
     "text": [
      "'str' object has no attribute 'test'\n"
     ]
    }
   ],
   "source": [
    "try:\n",
    "    'sudh'.test()\n",
    "except AttributeError as e:\n",
    "    print(e)"
   ]
  },
  {
   "cell_type": "code",
   "execution_count": 9,
   "id": "1d0fe0b1-8b30-41be-ba11-10cc9aef299f",
   "metadata": {},
   "outputs": [
    {
     "name": "stdout",
     "output_type": "stream",
     "text": [
      "list index out of range\n"
     ]
    }
   ],
   "source": [
    "try:\n",
    "    l = [1,2,3,4]\n",
    "    l[10]\n",
    "except IndexError as e:\n",
    "    print(e)"
   ]
  },
  {
   "cell_type": "code",
   "execution_count": 10,
   "id": "35edac12-f51d-4db4-82fa-c1e2a42dfcba",
   "metadata": {},
   "outputs": [
    {
     "name": "stdout",
     "output_type": "stream",
     "text": [
      "unsupported operand type(s) for +: 'int' and 'str'\n"
     ]
    }
   ],
   "source": [
    "try:\n",
    "    123 + 'sudh'\n",
    "except TypeError as e:\n",
    "    print(e)"
   ]
  },
  {
   "cell_type": "code",
   "execution_count": 11,
   "id": "a30e8803-1fab-4a63-99a7-2d0f2b5aa3c8",
   "metadata": {},
   "outputs": [
    {
     "name": "stdout",
     "output_type": "stream",
     "text": [
      "[Errno 2] No such file or directory: 'vamsi.txt'\n"
     ]
    }
   ],
   "source": [
    "try:\n",
    "    with open('vamsi.txt', 'r') as f:\n",
    "        f.read()\n",
    "except FileNotFoundError as e:\n",
    "    print(e)"
   ]
  },
  {
   "cell_type": "code",
   "execution_count": 13,
   "id": "bbedc0ae-0d1a-4b3f-ba4e-bea51e329efc",
   "metadata": {},
   "outputs": [
    {
     "name": "stdout",
     "output_type": "stream",
     "text": [
      "exception [Errno 2] No such file or directory: 'vamsi.txt'\n"
     ]
    }
   ],
   "source": [
    "try:\n",
    "    with open('vamsi.txt', 'r') as f:\n",
    "        f.read()\n",
    "except Exception as e:\n",
    "    print('exception', e)\n",
    "except FileNotFoundError as e:\n",
    "    print('File Not found', e)"
   ]
  },
  {
   "cell_type": "markdown",
   "id": "b923a3ec-94e7-4754-a446-b96c7775ec5e",
   "metadata": {},
   "source": [
    "- It is better to mention the error type rather than direct except\n",
    "- we have to write super class at last for other exceptions"
   ]
  },
  {
   "cell_type": "markdown",
   "id": "f9772136-ab04-4e9b-b3b5-91547277a06d",
   "metadata": {},
   "source": [
    "## Best Practice in Exception handling"
   ]
  },
  {
   "cell_type": "markdown",
   "id": "4b7d7322-f171-4812-98a6-e9a8b7c4ade4",
   "metadata": {},
   "source": [
    "- use always the specific exception"
   ]
  },
  {
   "cell_type": "code",
   "execution_count": 15,
   "id": "574e9a82-aca5-45d6-a361-f016db72914a",
   "metadata": {},
   "outputs": [
    {
     "name": "stdout",
     "output_type": "stream",
     "text": [
      "division by zero\n"
     ]
    }
   ],
   "source": [
    "try:\n",
    "    10 / 0\n",
    "except ZeroDivisionError as e:\n",
    "    print(e)"
   ]
  },
  {
   "cell_type": "markdown",
   "id": "8f4395a1-9215-4faf-bb38-a5876c48c6c8",
   "metadata": {},
   "source": [
    "- print always the valid message"
   ]
  },
  {
   "cell_type": "code",
   "execution_count": 17,
   "id": "ee0afa59-de56-4981-82bb-45a559658176",
   "metadata": {},
   "outputs": [
    {
     "name": "stdout",
     "output_type": "stream",
     "text": [
      "It is dividing with Zero, I am handling division by zero\n"
     ]
    }
   ],
   "source": [
    "try:\n",
    "    10 / 0\n",
    "except ZeroDivisionError as e:\n",
    "    print('It is dividing with Zero, I am handling', e)"
   ]
  },
  {
   "cell_type": "markdown",
   "id": "1c5de6ed-443c-4675-b89e-b8b7a97b015f",
   "metadata": {},
   "source": [
    "- always try to log"
   ]
  },
  {
   "cell_type": "code",
   "execution_count": 18,
   "id": "98d75355-1bdb-4c21-afc0-917fa701a92c",
   "metadata": {},
   "outputs": [],
   "source": [
    "import logging\n",
    "logging.basicConfig(filename = 'test.log', level = logging.ERROR)\n",
    "try:\n",
    "    10/0\n",
    "except ZeroDivisionError as e:\n",
    "    logging.error('It is dividing with Zero, I am handling {}'.format(e))"
   ]
  },
  {
   "cell_type": "markdown",
   "id": "0256eb00-1cc8-4d6f-b396-d2e761cee6e9",
   "metadata": {},
   "source": [
    "- always avoid to write a multiple or unnecessary exception handling \n",
    "- always try to prepare proper meaningful documentation"
   ]
  },
  {
   "cell_type": "markdown",
   "id": "d75c4ef6-7c41-4979-ba52-68928c1a4e39",
   "metadata": {},
   "source": [
    "- clean up all resources"
   ]
  },
  {
   "cell_type": "code",
   "execution_count": 19,
   "id": "4112f42e-9558-4c69-89a5-cc732944c09b",
   "metadata": {},
   "outputs": [],
   "source": [
    "try:\n",
    "    with open('test.txt', 'w') as f:\n",
    "        f.write('this is my message to file')\n",
    "except FileNotFoundError as e:\n",
    "    logging.error('File is not found and raised error {}'.format(e))\n",
    "finally:\n",
    "    f.close()"
   ]
  },
  {
   "cell_type": "code",
   "execution_count": null,
   "id": "b838b551-d665-413c-b40d-00bc14b4ebfb",
   "metadata": {},
   "outputs": [],
   "source": []
  }
 ],
 "metadata": {
  "kernelspec": {
   "display_name": "Python 3 (ipykernel)",
   "language": "python",
   "name": "python3"
  },
  "language_info": {
   "codemirror_mode": {
    "name": "ipython",
    "version": 3
   },
   "file_extension": ".py",
   "mimetype": "text/x-python",
   "name": "python",
   "nbconvert_exporter": "python",
   "pygments_lexer": "ipython3",
   "version": "3.10.8"
  }
 },
 "nbformat": 4,
 "nbformat_minor": 5
}
