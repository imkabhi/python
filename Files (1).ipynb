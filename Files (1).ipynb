{
 "cells": [
  {
   "cell_type": "markdown",
   "id": "fcdec359-7ac4-4306-bd5e-b115876fec1c",
   "metadata": {},
   "source": [
    "## Working with Files"
   ]
  },
  {
   "cell_type": "code",
   "execution_count": 1,
   "id": "8c0f6b20-ec70-4c32-8aa9-549569f05897",
   "metadata": {},
   "outputs": [],
   "source": [
    "f = open(\"test.txt\", \"a\")"
   ]
  },
  {
   "cell_type": "code",
   "execution_count": 2,
   "id": "337609a5-7ec1-4d79-b8c9-958e7b54dd3b",
   "metadata": {},
   "outputs": [
    {
     "data": {
      "text/plain": [
       "'/home/jovyan/work'"
      ]
     },
     "execution_count": 2,
     "metadata": {},
     "output_type": "execute_result"
    }
   ],
   "source": [
    "pwd"
   ]
  },
  {
   "cell_type": "code",
   "execution_count": 3,
   "id": "3b2871b8-f1bc-48e9-b47a-e045a358cdb2",
   "metadata": {},
   "outputs": [
    {
     "name": "stdout",
     "output_type": "stream",
     "text": [
      "abhi.log                  Logging_Debugger.ipynb  sample-code.ipynb  test3.log\n",
      "abhi.txt                  Multiprocessing.ipynb   test1.json         test4.bin\n",
      "Basics.ipynb              Multithreading.ipynb    test1.log          test.csv\n",
      "Exception_Handling.ipynb  OOPS.ipynb              test1.txt          test.log\n",
      "Files.ipynb               README.md               test3.csv          test.txt\n"
     ]
    }
   ],
   "source": [
    "ls"
   ]
  },
  {
   "cell_type": "code",
   "execution_count": 4,
   "id": "d8c973fe-b9a9-454c-879b-38c2d364550d",
   "metadata": {},
   "outputs": [
    {
     "data": {
      "text/plain": [
       "40"
      ]
     },
     "execution_count": 4,
     "metadata": {},
     "output_type": "execute_result"
    }
   ],
   "source": [
    "f.write(\"this is my first write operation in file\")"
   ]
  },
  {
   "cell_type": "code",
   "execution_count": 5,
   "id": "1bd920b6-ebea-4878-81a5-63a8f439f7a9",
   "metadata": {},
   "outputs": [],
   "source": [
    "f.close()"
   ]
  },
  {
   "cell_type": "code",
   "execution_count": 6,
   "id": "2d01d1c3-2f2a-4df3-a1aa-911e4935f73e",
   "metadata": {},
   "outputs": [],
   "source": [
    "data = open(\"test.txt\", \"r\")"
   ]
  },
  {
   "cell_type": "code",
   "execution_count": 7,
   "id": "d313137a-2ec6-4549-a476-a7631b158216",
   "metadata": {},
   "outputs": [
    {
     "data": {
      "text/plain": [
       "'this is my message to filethis is my first write operation in file'"
      ]
     },
     "execution_count": 7,
     "metadata": {},
     "output_type": "execute_result"
    }
   ],
   "source": [
    "data.read()"
   ]
  },
  {
   "cell_type": "code",
   "execution_count": 8,
   "id": "d0c8aeff-0c2c-42b4-ac3c-7505cd1efb6e",
   "metadata": {},
   "outputs": [
    {
     "data": {
      "text/plain": [
       "''"
      ]
     },
     "execution_count": 8,
     "metadata": {},
     "output_type": "execute_result"
    }
   ],
   "source": [
    "data.read()"
   ]
  },
  {
   "cell_type": "code",
   "execution_count": 9,
   "id": "4f120654-ffc9-4922-9559-1d1844a7935b",
   "metadata": {},
   "outputs": [
    {
     "data": {
      "text/plain": [
       "1"
      ]
     },
     "execution_count": 9,
     "metadata": {},
     "output_type": "execute_result"
    }
   ],
   "source": [
    "#sets the position\n",
    "data.seek(1)"
   ]
  },
  {
   "cell_type": "code",
   "execution_count": 16,
   "id": "b7ab06e4-11db-4087-b216-4b2ca096eab8",
   "metadata": {},
   "outputs": [
    {
     "data": {
      "text/plain": [
       "'this is my first write operation in filethis is my first write operation in file'"
      ]
     },
     "execution_count": 16,
     "metadata": {},
     "output_type": "execute_result"
    }
   ],
   "source": [
    "data.read()"
   ]
  },
  {
   "cell_type": "code",
   "execution_count": 10,
   "id": "f48ecd1d-f838-4789-9288-9dcb93522cb9",
   "metadata": {},
   "outputs": [
    {
     "data": {
      "text/plain": [
       "100"
      ]
     },
     "execution_count": 10,
     "metadata": {},
     "output_type": "execute_result"
    }
   ],
   "source": [
    "data.seek(100)"
   ]
  },
  {
   "cell_type": "code",
   "execution_count": 11,
   "id": "b5804f7f-886e-4d6b-9a9c-55dd4e89ac1d",
   "metadata": {},
   "outputs": [
    {
     "data": {
      "text/plain": [
       "''"
      ]
     },
     "execution_count": 11,
     "metadata": {},
     "output_type": "execute_result"
    }
   ],
   "source": [
    "data.read()"
   ]
  },
  {
   "cell_type": "code",
   "execution_count": 19,
   "id": "f41380a6-cca4-44ce-b4b2-13934ff76cf8",
   "metadata": {},
   "outputs": [],
   "source": [
    "f = open(\"test.csv\", 'a')\n",
    "for i in range(10):\n",
    "    f.write('this is my first write operation in file')\n",
    "f.close()"
   ]
  },
  {
   "cell_type": "code",
   "execution_count": 20,
   "id": "d9db7db2-107d-4ce5-835d-8e2411e7dab0",
   "metadata": {},
   "outputs": [],
   "source": [
    "data = open(\"test.csv\", 'r')"
   ]
  },
  {
   "cell_type": "code",
   "execution_count": 21,
   "id": "c8ccda44-8f4a-4bf0-b511-270af85c87a3",
   "metadata": {},
   "outputs": [
    {
     "name": "stdout",
     "output_type": "stream",
     "text": [
      "this is my first write operation in filethis is my first write operation in filethis is my first write operation in filethis is my first write operation in filethis is my first write operation in filethis is my first write operation in filethis is my first write operation in filethis is my first write operation in filethis is my first write operation in filethis is my first write operation in file\n"
     ]
    }
   ],
   "source": [
    "for i in data:\n",
    "    print(i)"
   ]
  },
  {
   "cell_type": "code",
   "execution_count": 22,
   "id": "1a0ffb46-7ba5-4248-bd4a-482660db49e0",
   "metadata": {},
   "outputs": [],
   "source": [
    "import os"
   ]
  },
  {
   "cell_type": "code",
   "execution_count": 23,
   "id": "35eee046-eea5-4693-a85f-65f62d0c1ddc",
   "metadata": {},
   "outputs": [
    {
     "data": {
      "text/plain": [
       "80"
      ]
     },
     "execution_count": 23,
     "metadata": {},
     "output_type": "execute_result"
    }
   ],
   "source": [
    "os.path.getsize('test.txt')"
   ]
  },
  {
   "cell_type": "code",
   "execution_count": 24,
   "id": "c707298b-6998-49aa-b9f4-376248f45bd7",
   "metadata": {},
   "outputs": [],
   "source": [
    "import shutil"
   ]
  },
  {
   "cell_type": "code",
   "execution_count": 25,
   "id": "262f0d31-ef54-4839-a320-96e9b79fe1ab",
   "metadata": {},
   "outputs": [
    {
     "data": {
      "text/plain": [
       "'new_test.txt'"
      ]
     },
     "execution_count": 25,
     "metadata": {},
     "output_type": "execute_result"
    }
   ],
   "source": [
    "shutil.copy('test.txt', 'new_test.txt')"
   ]
  },
  {
   "cell_type": "code",
   "execution_count": 26,
   "id": "4704863c-9124-4209-ad25-10063437df33",
   "metadata": {},
   "outputs": [],
   "source": [
    "os.remove('test.txt')"
   ]
  },
  {
   "cell_type": "code",
   "execution_count": 27,
   "id": "4b86679f-e679-49cd-9935-c74e4e0ed428",
   "metadata": {},
   "outputs": [
    {
     "name": "stdout",
     "output_type": "stream",
     "text": [
      "this is my first write operation in filethis is my first write operation in file\n"
     ]
    }
   ],
   "source": [
    "with open(\"new_test.txt\", 'r') as f:\n",
    "    print(f.read())"
   ]
  },
  {
   "cell_type": "code",
   "execution_count": 29,
   "id": "b4671830-d1d4-4122-9d4b-fc465cec7490",
   "metadata": {},
   "outputs": [],
   "source": [
    "os.rename('new_test.txt', 'test1.txt')"
   ]
  },
  {
   "cell_type": "markdown",
   "id": "f9eb923f-d420-493e-a4ed-5e5beb1d4157",
   "metadata": {},
   "source": [
    "## Reading and Writing Files"
   ]
  },
  {
   "cell_type": "code",
   "execution_count": 31,
   "id": "c026f3fb-a07e-4547-a678-e1cbfdc22278",
   "metadata": {},
   "outputs": [],
   "source": [
    "data = {\n",
    "    'name' : 'abhi',\n",
    "    'mail_id' : 'abhi@gmail.com',\n",
    "    'phone_number' : 9854765155,\n",
    "    \"subject\" : ['data science', 'data analytics', 'big data']\n",
    "\n",
    "}"
   ]
  },
  {
   "cell_type": "code",
   "execution_count": 32,
   "id": "eb1013a3-89b3-4975-b787-16c61e6a2edb",
   "metadata": {},
   "outputs": [],
   "source": [
    "import json"
   ]
  },
  {
   "cell_type": "code",
   "execution_count": 33,
   "id": "f54bda4d-1919-4baa-bf86-fbbd33d35d4c",
   "metadata": {},
   "outputs": [],
   "source": [
    "with open('test1.json', 'w') as f:\n",
    "    json.dump(data, f)"
   ]
  },
  {
   "cell_type": "code",
   "execution_count": 34,
   "id": "8179fc3a-77de-4280-aa78-8b7e80ff4ae1",
   "metadata": {},
   "outputs": [],
   "source": [
    "with open('test1.json', 'r') as f:\n",
    "    data1 = json.load(f)"
   ]
  },
  {
   "cell_type": "code",
   "execution_count": 35,
   "id": "dafe7754-a09d-453d-ac13-f8509dde5fa6",
   "metadata": {},
   "outputs": [
    {
     "data": {
      "text/plain": [
       "{'name': 'abhi',\n",
       " 'mail_id': 'abhi@gmail.com',\n",
       " 'phone_number': 9854765155,\n",
       " 'subject': ['data science', 'data analytics', 'big data']}"
      ]
     },
     "execution_count": 35,
     "metadata": {},
     "output_type": "execute_result"
    }
   ],
   "source": [
    "data1"
   ]
  },
  {
   "cell_type": "code",
   "execution_count": 36,
   "id": "39eb34fd-a94d-4957-a89e-80c2cc2267fe",
   "metadata": {},
   "outputs": [
    {
     "data": {
      "text/plain": [
       "'data analytics'"
      ]
     },
     "execution_count": 36,
     "metadata": {},
     "output_type": "execute_result"
    }
   ],
   "source": [
    "data['subject'][1]"
   ]
  },
  {
   "cell_type": "code",
   "execution_count": 38,
   "id": "f81377ec-5d1c-4de0-83c1-9c487a7806fb",
   "metadata": {},
   "outputs": [],
   "source": [
    "data = [['name', 'email', 'number'],\n",
    "       ['sudh', 'sudh@gmail.com', 7844521789],\n",
    "        ['abhi', 'abhi@gmail.com', 8745213698]\n",
    "]"
   ]
  },
  {
   "cell_type": "code",
   "execution_count": 39,
   "id": "4220866d-489b-4634-8808-ea27569e1c1e",
   "metadata": {},
   "outputs": [],
   "source": [
    "import csv"
   ]
  },
  {
   "cell_type": "code",
   "execution_count": 40,
   "id": "8cc6a15e-5637-49ab-a2b7-94e461f7da93",
   "metadata": {},
   "outputs": [],
   "source": [
    "with open('test3.csv', 'w') as f:\n",
    "    w = csv.writer(f)\n",
    "    for i in data:\n",
    "        w.writerow(i)"
   ]
  },
  {
   "cell_type": "code",
   "execution_count": 41,
   "id": "c1840ff0-31b5-4d60-aa77-5d49b8b68b22",
   "metadata": {},
   "outputs": [
    {
     "name": "stdout",
     "output_type": "stream",
     "text": [
      "['name', 'email', 'number']\n",
      "['sudh', 'sudh@gmail.com', '7844521789']\n",
      "['abhi', 'abhi@gmail.com', '8745213698']\n"
     ]
    }
   ],
   "source": [
    "with open('test3.csv', 'r') as f:\n",
    "    read = csv.reader(f)\n",
    "    for i in read:\n",
    "        print(i)"
   ]
  },
  {
   "cell_type": "code",
   "execution_count": 42,
   "id": "089bc5d1-3813-4b9f-b31b-50a7fa645e00",
   "metadata": {},
   "outputs": [],
   "source": [
    "with open('test4.bin', 'wb') as f:\n",
    "    f.write(b'\\x01\\x02\\x03')"
   ]
  },
  {
   "cell_type": "code",
   "execution_count": 43,
   "id": "2eb4b7f2-e83a-4b55-9036-aaa3f26697d0",
   "metadata": {},
   "outputs": [
    {
     "name": "stdout",
     "output_type": "stream",
     "text": [
      "b'\\x01\\x02\\x03'\n"
     ]
    }
   ],
   "source": [
    "with open('test4.bin', 'rb') as f:\n",
    "    print(f.read())"
   ]
  },
  {
   "cell_type": "markdown",
   "id": "e1c8c482-d4e1-46f8-b0de-0dbc1bc99678",
   "metadata": {},
   "source": [
    "## Buffered Read and Write"
   ]
  },
  {
   "cell_type": "code",
   "execution_count": 1,
   "id": "2da8c8be-a8d7-4486-a16b-10b13a612711",
   "metadata": {},
   "outputs": [],
   "source": [
    "import io"
   ]
  },
  {
   "cell_type": "code",
   "execution_count": 2,
   "id": "55201852-fdda-4003-84ed-f8ca4bf43fa8",
   "metadata": {},
   "outputs": [],
   "source": [
    "with open('test.txt', 'wb') as f:\n",
    "    file = io.BufferedWriter(f)\n",
    "    file.write(b'this is my buffer write\\n')\n",
    "    file.write(b'this is my second line i am writing to execute buffered data')\n",
    "    file.flush()"
   ]
  },
  {
   "cell_type": "code",
   "execution_count": 4,
   "id": "f9a3e9a9-2ad7-4552-89d8-0db058ad8e5b",
   "metadata": {},
   "outputs": [
    {
     "name": "stdout",
     "output_type": "stream",
     "text": [
      "b'this is my buffer write\\nthis is my second line i am writing to execute buffered data'\n"
     ]
    }
   ],
   "source": [
    "with open('test.txt', 'rb') as f:\n",
    "    file = io.BufferedReader(f)\n",
    "    data = file.read()\n",
    "    print(data)"
   ]
  },
  {
   "cell_type": "code",
   "execution_count": 5,
   "id": "2c9e9d01-37e9-49bb-990a-5f1122f122c7",
   "metadata": {},
   "outputs": [
    {
     "name": "stdout",
     "output_type": "stream",
     "text": [
      "b'this is my'\n"
     ]
    }
   ],
   "source": [
    "with open('test.txt', 'rb') as f:\n",
    "    file = io.BufferedReader(f)\n",
    "    data = file.read(10)\n",
    "    print(data)"
   ]
  },
  {
   "cell_type": "code",
   "execution_count": null,
   "id": "b39555bb-c83e-406f-b9f8-af85de0a8c98",
   "metadata": {},
   "outputs": [],
   "source": []
  }
 ],
 "metadata": {
  "kernelspec": {
   "display_name": "Python 3 (ipykernel)",
   "language": "python",
   "name": "python3"
  },
  "language_info": {
   "codemirror_mode": {
    "name": "ipython",
    "version": 3
   },
   "file_extension": ".py",
   "mimetype": "text/x-python",
   "name": "python",
   "nbconvert_exporter": "python",
   "pygments_lexer": "ipython3",
   "version": "3.10.8"
  }
 },
 "nbformat": 4,
 "nbformat_minor": 5
}
