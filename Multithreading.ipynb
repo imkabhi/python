{
 "cells": [
  {
   "cell_type": "markdown",
   "id": "c5737719-6034-45f4-aad9-d5b9e945e169",
   "metadata": {},
   "source": [
    "# Threading\n",
    "\n",
    "- Suppose you have a quad-core processor computer, that means it has 4 processors, \n",
    "- If in 4 processors p1, p2, p3, p4 programs are running, I would like to execute p1 4 times in same processor, then threading is used How?\n",
    "- It will try to create multiple threads or subprocessor sequencially in the same core for same program.\n",
    "\n"
   ]
  },
  {
   "cell_type": "code",
   "execution_count": 1,
   "id": "a51eb85c-b925-4c7c-8ef4-769066025b5c",
   "metadata": {},
   "outputs": [],
   "source": [
    "import threading"
   ]
  },
  {
   "cell_type": "code",
   "execution_count": 2,
   "id": "7046105f-5ca5-46cc-8e95-8b18c1867f8f",
   "metadata": {},
   "outputs": [],
   "source": [
    "def test(id):\n",
    "    print('this is my test id {}'.format(id))"
   ]
  },
  {
   "cell_type": "code",
   "execution_count": 3,
   "id": "e3317980-4d1a-4ca0-a158-90ae6bda2053",
   "metadata": {},
   "outputs": [
    {
     "name": "stdout",
     "output_type": "stream",
     "text": [
      "this is my test id 10\n"
     ]
    }
   ],
   "source": [
    "test(10)"
   ]
  },
  {
   "cell_type": "code",
   "execution_count": 4,
   "id": "55f44fab-038e-4516-9580-42797a7ddd89",
   "metadata": {},
   "outputs": [
    {
     "name": "stdout",
     "output_type": "stream",
     "text": [
      "this is my test id 2\n"
     ]
    }
   ],
   "source": [
    "test(2)"
   ]
  },
  {
   "cell_type": "code",
   "execution_count": 5,
   "id": "4d8654ac-799c-4dee-bb49-9b00d9b76d7d",
   "metadata": {},
   "outputs": [
    {
     "name": "stdout",
     "output_type": "stream",
     "text": [
      "this is my test id 7\n"
     ]
    }
   ],
   "source": [
    "test(7)"
   ]
  },
  {
   "cell_type": "code",
   "execution_count": 6,
   "id": "cf44fca0-a137-43fe-be8f-42796ad73bed",
   "metadata": {},
   "outputs": [],
   "source": [
    "thread = [threading.Thread(target = test, args = (i,)) for i in [10, 1, 3]]"
   ]
  },
  {
   "cell_type": "code",
   "execution_count": 7,
   "id": "ff5d3b2f-cfa7-4dcc-aaac-9351f07b8bb3",
   "metadata": {},
   "outputs": [
    {
     "data": {
      "text/plain": [
       "[<Thread(Thread-5 (test), initial)>,\n",
       " <Thread(Thread-6 (test), initial)>,\n",
       " <Thread(Thread-7 (test), initial)>]"
      ]
     },
     "execution_count": 7,
     "metadata": {},
     "output_type": "execute_result"
    }
   ],
   "source": [
    "thread"
   ]
  },
  {
   "cell_type": "code",
   "execution_count": 8,
   "id": "8fc7f208-7dda-4095-a8e9-98263ddff194",
   "metadata": {},
   "outputs": [
    {
     "name": "stdout",
     "output_type": "stream",
     "text": [
      "this is my test id 10\n",
      "this is my test id 1\n",
      "this is my test id 3\n"
     ]
    }
   ],
   "source": [
    "for t in thread:\n",
    "    t.start()"
   ]
  },
  {
   "cell_type": "code",
   "execution_count": 14,
   "id": "37ae9b37-c870-4312-a3ef-2388f473e011",
   "metadata": {},
   "outputs": [],
   "source": [
    "def test2(x):\n",
    "    for i in range(10):\n",
    "        print('test1 print the value of x %d and i %d' %(x, i))\n",
    "        time.sleep(1)"
   ]
  },
  {
   "cell_type": "code",
   "execution_count": 15,
   "id": "b416bee3-528c-45e7-870d-80901d8d7076",
   "metadata": {},
   "outputs": [
    {
     "name": "stdout",
     "output_type": "stream",
     "text": [
      "test1 print the value of x 10 and i 0\n",
      "test1 print the value of x 10 and i 1\n",
      "test1 print the value of x 10 and i 2\n",
      "test1 print the value of x 10 and i 3\n",
      "test1 print the value of x 10 and i 4\n",
      "test1 print the value of x 10 and i 5\n",
      "test1 print the value of x 10 and i 6\n",
      "test1 print the value of x 10 and i 7\n",
      "test1 print the value of x 10 and i 8\n",
      "test1 print the value of x 10 and i 9\n"
     ]
    }
   ],
   "source": [
    "test2(10)"
   ]
  },
  {
   "cell_type": "code",
   "execution_count": 12,
   "id": "0cf1afbc-c554-4d97-bcdb-2f4c0ec8ba94",
   "metadata": {},
   "outputs": [
    {
     "name": "stdout",
     "output_type": "stream",
     "text": [
      "test1 print the value of x 2 and i 0\n",
      "test1 print the value of x 2 and i 1\n",
      "test1 print the value of x 2 and i 2\n",
      "test1 print the value of x 2 and i 3\n",
      "test1 print the value of x 2 and i 4\n",
      "test1 print the value of x 2 and i 5\n",
      "test1 print the value of x 2 and i 6\n",
      "test1 print the value of x 2 and i 7\n",
      "test1 print the value of x 2 and i 8\n",
      "test1 print the value of x 2 and i 9\n"
     ]
    }
   ],
   "source": [
    "test2(2)"
   ]
  },
  {
   "cell_type": "code",
   "execution_count": 13,
   "id": "81938fde-4b71-4e98-9ef1-3281ecfde5c8",
   "metadata": {},
   "outputs": [],
   "source": [
    "import time"
   ]
  },
  {
   "cell_type": "code",
   "execution_count": 16,
   "id": "e31bc351-594c-4049-8739-29f80d855141",
   "metadata": {},
   "outputs": [],
   "source": [
    "thread2 = [threading.Thread(target = test2, args = (i,)) for i in [100, 10, 20, 5]]"
   ]
  },
  {
   "cell_type": "code",
   "execution_count": 17,
   "id": "8ead8adf-ef0a-4d5e-9ea8-28d4284f35b1",
   "metadata": {},
   "outputs": [
    {
     "name": "stdout",
     "output_type": "stream",
     "text": [
      "test1 print the value of x 100 and i 0\n",
      "test1 print the value of x 10 and i 0\n",
      "test1 print the value of x 20 and i 0\n",
      "test1 print the value of x 5 and i 0\n",
      "test1 print the value of x 100 and i 1test1 print the value of x 10 and i 1\n",
      "\n",
      "test1 print the value of x 5 and i 1\n",
      "test1 print the value of x 20 and i 1\n",
      "test1 print the value of x 10 and i 2\n",
      "test1 print the value of x 20 and i 2\n",
      "test1 print the value of x 100 and i 2\n",
      "test1 print the value of x 5 and i 2\n",
      "test1 print the value of x 10 and i 3test1 print the value of x 5 and i 3\n",
      "test1 print the value of x 20 and i 3\n",
      "\n",
      "test1 print the value of x 100 and i 3\n",
      "test1 print the value of x 5 and i 4test1 print the value of x 10 and i 4\n",
      "\n",
      "test1 print the value of x 100 and i 4\n",
      "test1 print the value of x 20 and i 4\n",
      "test1 print the value of x 5 and i 5\n",
      "test1 print the value of x 100 and i 5\n",
      "test1 print the value of x 10 and i 5\n",
      "test1 print the value of x 20 and i 5\n",
      "test1 print the value of x 5 and i 6test1 print the value of x 100 and i 6\n",
      "\n",
      "test1 print the value of x 10 and i 6\n",
      "test1 print the value of x 20 and i 6\n",
      "test1 print the value of x 100 and i 7test1 print the value of x 10 and i 7\n",
      "test1 print the value of x 5 and i 7\n",
      "\n",
      "test1 print the value of x 20 and i 7\n",
      "test1 print the value of x 10 and i 8test1 print the value of x 5 and i 8\n",
      "test1 print the value of x 20 and i 8\n",
      "test1 print the value of x 100 and i 8\n",
      "\n",
      "test1 print the value of x 100 and i 9\n",
      "test1 print the value of x 5 and i 9\n",
      "test1 print the value of x 20 and i 9\n",
      "test1 print the value of x 10 and i 9\n"
     ]
    }
   ],
   "source": [
    "for t in thread2:\n",
    "    t.start()"
   ]
  },
  {
   "cell_type": "code",
   "execution_count": 18,
   "id": "401f09d0-4ffd-437f-8a26-5af2ced3201c",
   "metadata": {},
   "outputs": [],
   "source": [
    "def test3(x):\n",
    "    for i in range(10):\n",
    "        print('test1 print the value of x %d and i %d' %(x, i))\n",
    "        #time.sleep(1) "
   ]
  },
  {
   "cell_type": "code",
   "execution_count": 19,
   "id": "4c5feec0-ecbe-4444-a8ec-6c68e5cbaa79",
   "metadata": {},
   "outputs": [],
   "source": [
    "thread3 = [threading.Thread(target = test3, args = (i,)) for i in [100, 10, 20, 5]]"
   ]
  },
  {
   "cell_type": "code",
   "execution_count": 20,
   "id": "b20f547b-6b31-45bb-b8d7-c04c16c0d0f4",
   "metadata": {},
   "outputs": [
    {
     "name": "stdout",
     "output_type": "stream",
     "text": [
      "test1 print the value of x 100 and i 0\n",
      "test1 print the value of x 100 and i 1\n",
      "test1 print the value of x 100 and i 2\n",
      "test1 print the value of x 100 and i 3\n",
      "test1 print the value of x 100 and i 4\n",
      "test1 print the value of x 100 and i 5\n",
      "test1 print the value of x 100 and i 6\n",
      "test1 print the value of x 100 and i 7\n",
      "test1 print the value of x 100 and i 8\n",
      "test1 print the value of x 100 and i 9\n",
      "test1 print the value of x 10 and i 0\n",
      "test1 print the value of x 10 and i 1\n",
      "test1 print the value of x 10 and i 2\n",
      "test1 print the value of x 10 and i 3\n",
      "test1 print the value of x 10 and i 4\n",
      "test1 print the value of x 10 and i 5\n",
      "test1 print the value of x 10 and i 6\n",
      "test1 print the value of x 10 and i 7\n",
      "test1 print the value of x 10 and i 8\n",
      "test1 print the value of x 10 and i 9\n",
      "test1 print the value of x 20 and i 0\n",
      "test1 print the value of x 20 and i 1\n",
      "test1 print the value of x 20 and i 2\n",
      "test1 print the value of x 20 and i 3\n",
      "test1 print the value of x 20 and i 4\n",
      "test1 print the value of x 20 and i 5\n",
      "test1 print the value of x 20 and i 6\n",
      "test1 print the value of x 20 and i 7\n",
      "test1 print the value of x 20 and i 8\n",
      "test1 print the value of x 20 and i 9\n",
      "test1 print the value of x 5 and i 0\n",
      "test1 print the value of x 5 and i 1\n",
      "test1 print the value of x 5 and i 2\n",
      "test1 print the value of x 5 and i 3\n",
      "test1 print the value of x 5 and i 4\n",
      "test1 print the value of x 5 and i 5\n",
      "test1 print the value of x 5 and i 6\n",
      "test1 print the value of x 5 and i 7\n",
      "test1 print the value of x 5 and i 8\n",
      "test1 print the value of x 5 and i 9\n"
     ]
    }
   ],
   "source": [
    "for t in thread3:\n",
    "    t.start()"
   ]
  },
  {
   "cell_type": "code",
   "execution_count": 22,
   "id": "189c880f-fbf7-4d9d-a2de-c4824c301547",
   "metadata": {},
   "outputs": [
    {
     "name": "stdout",
     "output_type": "stream",
     "text": [
      "value of x 1 and value of shared_value 1\n",
      "value of x 2 and value of shared_value 2\n",
      "value of x 3 and value of shared_value 3\n",
      "value of x 4 and value of shared_value 4\n",
      "value of x 4 and value of shared_value 5\n",
      "value of x 5 and value of shared_value 6\n",
      "value of x 5 and value of shared_value 7\n"
     ]
    }
   ],
   "source": [
    "shared_var = 0\n",
    "lock_var = threading.Lock()\n",
    "def test4(x):\n",
    "    global shared_var\n",
    "    with lock_var:\n",
    "        shared_var = shared_var + 1\n",
    "        print('value of x %d and value of shared_value %d' %(x, shared_var))\n",
    "        time.sleep(1)\n",
    "\n",
    "thread5 = [threading.Thread(target = test4, args = (i,)) for i in [1,2,3,4,4,5,5]]\n",
    "for t in thread5:\n",
    "    t.start()"
   ]
  },
  {
   "cell_type": "code",
   "execution_count": null,
   "id": "0830493e-fa10-468d-8e04-f3aa5ec6e123",
   "metadata": {},
   "outputs": [],
   "source": []
  }
 ],
 "metadata": {
  "kernelspec": {
   "display_name": "Python 3 (ipykernel)",
   "language": "python",
   "name": "python3"
  },
  "language_info": {
   "codemirror_mode": {
    "name": "ipython",
    "version": 3
   },
   "file_extension": ".py",
   "mimetype": "text/x-python",
   "name": "python",
   "nbconvert_exporter": "python",
   "pygments_lexer": "ipython3",
   "version": "3.10.8"
  }
 },
 "nbformat": 4,
 "nbformat_minor": 5
}
